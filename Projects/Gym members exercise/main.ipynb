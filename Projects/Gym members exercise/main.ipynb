{
 "cells": [
  {
   "cell_type": "code",
   "execution_count": 63,
   "metadata": {},
   "outputs": [],
   "source": [
    "import pandas as pd\n",
    "import matplotlib.pyplot as plt"
   ]
  },
  {
   "cell_type": "markdown",
   "metadata": {},
   "source": [
    "# Data exploration"
   ]
  },
  {
   "cell_type": "code",
   "execution_count": 64,
   "metadata": {},
   "outputs": [
    {
     "name": "stdout",
     "output_type": "stream",
     "text": [
      "(973, 15)\n"
     ]
    },
    {
     "data": {
      "text/html": [
       "<div>\n",
       "<style scoped>\n",
       "    .dataframe tbody tr th:only-of-type {\n",
       "        vertical-align: middle;\n",
       "    }\n",
       "\n",
       "    .dataframe tbody tr th {\n",
       "        vertical-align: top;\n",
       "    }\n",
       "\n",
       "    .dataframe thead th {\n",
       "        text-align: right;\n",
       "    }\n",
       "</style>\n",
       "<table border=\"1\" class=\"dataframe\">\n",
       "  <thead>\n",
       "    <tr style=\"text-align: right;\">\n",
       "      <th></th>\n",
       "      <th>Age</th>\n",
       "      <th>Gender</th>\n",
       "      <th>Weight (kg)</th>\n",
       "      <th>Height (m)</th>\n",
       "      <th>Max_BPM</th>\n",
       "      <th>Avg_BPM</th>\n",
       "      <th>Resting_BPM</th>\n",
       "      <th>Session_Duration (hours)</th>\n",
       "      <th>Calories_Burned</th>\n",
       "      <th>Workout_Type</th>\n",
       "      <th>Fat_Percentage</th>\n",
       "      <th>Water_Intake (liters)</th>\n",
       "      <th>Workout_Frequency (days/week)</th>\n",
       "      <th>Experience_Level</th>\n",
       "      <th>BMI</th>\n",
       "    </tr>\n",
       "  </thead>\n",
       "  <tbody>\n",
       "    <tr>\n",
       "      <th>0</th>\n",
       "      <td>56</td>\n",
       "      <td>Male</td>\n",
       "      <td>88.3</td>\n",
       "      <td>1.71</td>\n",
       "      <td>180</td>\n",
       "      <td>157</td>\n",
       "      <td>60</td>\n",
       "      <td>1.69</td>\n",
       "      <td>1313.0</td>\n",
       "      <td>Yoga</td>\n",
       "      <td>12.6</td>\n",
       "      <td>3.5</td>\n",
       "      <td>4</td>\n",
       "      <td>3</td>\n",
       "      <td>30.20</td>\n",
       "    </tr>\n",
       "    <tr>\n",
       "      <th>1</th>\n",
       "      <td>46</td>\n",
       "      <td>Female</td>\n",
       "      <td>74.9</td>\n",
       "      <td>1.53</td>\n",
       "      <td>179</td>\n",
       "      <td>151</td>\n",
       "      <td>66</td>\n",
       "      <td>1.30</td>\n",
       "      <td>883.0</td>\n",
       "      <td>HIIT</td>\n",
       "      <td>33.9</td>\n",
       "      <td>2.1</td>\n",
       "      <td>4</td>\n",
       "      <td>2</td>\n",
       "      <td>32.00</td>\n",
       "    </tr>\n",
       "    <tr>\n",
       "      <th>2</th>\n",
       "      <td>32</td>\n",
       "      <td>Female</td>\n",
       "      <td>68.1</td>\n",
       "      <td>1.66</td>\n",
       "      <td>167</td>\n",
       "      <td>122</td>\n",
       "      <td>54</td>\n",
       "      <td>1.11</td>\n",
       "      <td>677.0</td>\n",
       "      <td>Cardio</td>\n",
       "      <td>33.4</td>\n",
       "      <td>2.3</td>\n",
       "      <td>4</td>\n",
       "      <td>2</td>\n",
       "      <td>24.71</td>\n",
       "    </tr>\n",
       "    <tr>\n",
       "      <th>3</th>\n",
       "      <td>25</td>\n",
       "      <td>Male</td>\n",
       "      <td>53.2</td>\n",
       "      <td>1.70</td>\n",
       "      <td>190</td>\n",
       "      <td>164</td>\n",
       "      <td>56</td>\n",
       "      <td>0.59</td>\n",
       "      <td>532.0</td>\n",
       "      <td>Strength</td>\n",
       "      <td>28.8</td>\n",
       "      <td>2.1</td>\n",
       "      <td>3</td>\n",
       "      <td>1</td>\n",
       "      <td>18.41</td>\n",
       "    </tr>\n",
       "    <tr>\n",
       "      <th>4</th>\n",
       "      <td>38</td>\n",
       "      <td>Male</td>\n",
       "      <td>46.1</td>\n",
       "      <td>1.79</td>\n",
       "      <td>188</td>\n",
       "      <td>158</td>\n",
       "      <td>68</td>\n",
       "      <td>0.64</td>\n",
       "      <td>556.0</td>\n",
       "      <td>Strength</td>\n",
       "      <td>29.2</td>\n",
       "      <td>2.8</td>\n",
       "      <td>3</td>\n",
       "      <td>1</td>\n",
       "      <td>14.39</td>\n",
       "    </tr>\n",
       "  </tbody>\n",
       "</table>\n",
       "</div>"
      ],
      "text/plain": [
       "   Age  Gender  Weight (kg)  Height (m)  Max_BPM  Avg_BPM  Resting_BPM  \\\n",
       "0   56    Male         88.3        1.71      180      157           60   \n",
       "1   46  Female         74.9        1.53      179      151           66   \n",
       "2   32  Female         68.1        1.66      167      122           54   \n",
       "3   25    Male         53.2        1.70      190      164           56   \n",
       "4   38    Male         46.1        1.79      188      158           68   \n",
       "\n",
       "   Session_Duration (hours)  Calories_Burned Workout_Type  Fat_Percentage  \\\n",
       "0                      1.69           1313.0         Yoga            12.6   \n",
       "1                      1.30            883.0         HIIT            33.9   \n",
       "2                      1.11            677.0       Cardio            33.4   \n",
       "3                      0.59            532.0     Strength            28.8   \n",
       "4                      0.64            556.0     Strength            29.2   \n",
       "\n",
       "   Water_Intake (liters)  Workout_Frequency (days/week)  Experience_Level  \\\n",
       "0                    3.5                              4                 3   \n",
       "1                    2.1                              4                 2   \n",
       "2                    2.3                              4                 2   \n",
       "3                    2.1                              3                 1   \n",
       "4                    2.8                              3                 1   \n",
       "\n",
       "     BMI  \n",
       "0  30.20  \n",
       "1  32.00  \n",
       "2  24.71  \n",
       "3  18.41  \n",
       "4  14.39  "
      ]
     },
     "execution_count": 64,
     "metadata": {},
     "output_type": "execute_result"
    }
   ],
   "source": [
    "df = pd.read_csv(\"gym_members_exercise_tracking.csv\")\n",
    "print(df.shape)\n",
    "df.head()"
   ]
  },
  {
   "cell_type": "markdown",
   "metadata": {},
   "source": [
    "## Data types & column renaming"
   ]
  },
  {
   "cell_type": "code",
   "execution_count": 66,
   "metadata": {},
   "outputs": [],
   "source": [
    "df.rename(columns={\n",
    "    \"Weight (kg)\": \"weight\",\n",
    "    \"Height (m)\": \"height\",\n",
    "    \"Session_Duration (hours)\": \"session_duration\",\n",
    "    \"Water_Intake (liters)\": \"water_intake\",\n",
    "    \"Workout_Frequency (days/week)\": \"workout_frequency\"\n",
    "}, inplace=True)"
   ]
  },
  {
   "cell_type": "code",
   "execution_count": 91,
   "metadata": {},
   "outputs": [
    {
     "data": {
      "text/plain": [
       "Age                    int64\n",
       "Gender                object\n",
       "weight               float64\n",
       "height               float64\n",
       "Max_BPM                int64\n",
       "Avg_BPM                int64\n",
       "Resting_BPM            int64\n",
       "session_duration     float64\n",
       "Calories_Burned      float64\n",
       "Workout_Type          object\n",
       "Fat_Percentage       float64\n",
       "water_intake         float64\n",
       "workout_frequency      int64\n",
       "Experience_Level       int64\n",
       "BMI                  float64\n",
       "dtype: object"
      ]
     },
     "execution_count": 91,
     "metadata": {},
     "output_type": "execute_result"
    }
   ],
   "source": [
    "df.dtypes"
   ]
  },
  {
   "cell_type": "markdown",
   "metadata": {},
   "source": [
    "## Demographics"
   ]
  },
  {
   "cell_type": "code",
   "execution_count": 67,
   "metadata": {},
   "outputs": [
    {
     "data": {
      "image/png": "[encoded data removed]",
      "text/plain": [
       "<Figure size 800x500 with 1 Axes>"
      ]
     },
     "metadata": {},
     "output_type": "display_data"
    }
   ],
   "source": [
    "# Count the frequencies of each gender\n",
    "gender_counts = df['Gender'].value_counts()\n",
    "\n",
    "# Create the bar plot\n",
    "plt.figure(figsize=(8, 5))\n",
    "gender_counts.plot(kind='bar', color=['skyblue', 'pink'])\n",
    "plt.title('Gender Distribution')\n",
    "plt.xlabel('Gender')\n",
    "plt.ylabel('Count')\n",
    "plt.xticks(rotation=0)\n",
    "plt.show()"
   ]
  },
  {
   "cell_type": "code",
   "execution_count": 68,
   "metadata": {},
   "outputs": [
    {
     "data": {
      "text/plain": [
       "Text(0.5, 1.0, 'Age distribution')"
      ]
     },
     "execution_count": 68,
     "metadata": {},
     "output_type": "execute_result"
    },
    {
     "data": {
      "image/png": "[encoded data removed]",
      "text/plain": [
       "<Figure size 1500x500 with 1 Axes>"
      ]
     },
     "metadata": {},
     "output_type": "display_data"
    }
   ],
   "source": [
    "age_counts = df[\"Age\"].value_counts().sort_index()\n",
    "age_counts.plot(kind=\"bar\", figsize=(15, 5))\n",
    "plt.xlabel('Age')\n",
    "plt.ylabel('Count')\n",
    "plt.xticks(rotation=0)\n",
    "plt.title(\"Age distribution\")"
   ]
  },
  {
   "cell_type": "code",
   "execution_count": 69,
   "metadata": {},
   "outputs": [
    {
     "name": "stdout",
     "output_type": "stream",
     "text": [
      "165 are below 25 yers old.\n"
     ]
    }
   ],
   "source": [
    "print(f\"{df.loc[df['Age'] <= 24]['Age'].count()} are below 25 yers old.\")\n"
   ]
  },
  {
   "cell_type": "code",
   "execution_count": 70,
   "metadata": {},
   "outputs": [
    {
     "data": {
      "text/html": [
       "<div>\n",
       "<style scoped>\n",
       "    .dataframe tbody tr th:only-of-type {\n",
       "        vertical-align: middle;\n",
       "    }\n",
       "\n",
       "    .dataframe tbody tr th {\n",
       "        vertical-align: top;\n",
       "    }\n",
       "\n",
       "    .dataframe thead th {\n",
       "        text-align: right;\n",
       "    }\n",
       "</style>\n",
       "<table border=\"1\" class=\"dataframe\">\n",
       "  <thead>\n",
       "    <tr style=\"text-align: right;\">\n",
       "      <th></th>\n",
       "      <th>Age</th>\n",
       "      <th>Gender</th>\n",
       "      <th>weight</th>\n",
       "      <th>height</th>\n",
       "      <th>Max_BPM</th>\n",
       "      <th>Avg_BPM</th>\n",
       "      <th>Resting_BPM</th>\n",
       "      <th>session_duration</th>\n",
       "      <th>Calories_Burned</th>\n",
       "      <th>Workout_Type</th>\n",
       "      <th>Fat_Percentage</th>\n",
       "      <th>water_intake</th>\n",
       "      <th>workout_frequency</th>\n",
       "      <th>Experience_Level</th>\n",
       "      <th>BMI</th>\n",
       "    </tr>\n",
       "  </thead>\n",
       "  <tbody>\n",
       "    <tr>\n",
       "      <th>960</th>\n",
       "      <td>19</td>\n",
       "      <td>Female</td>\n",
       "      <td>69.2</td>\n",
       "      <td>1.60</td>\n",
       "      <td>186</td>\n",
       "      <td>155</td>\n",
       "      <td>74</td>\n",
       "      <td>1.17</td>\n",
       "      <td>907.0</td>\n",
       "      <td>Cardio</td>\n",
       "      <td>32.4</td>\n",
       "      <td>1.6</td>\n",
       "      <td>3</td>\n",
       "      <td>1</td>\n",
       "      <td>27.03</td>\n",
       "    </tr>\n",
       "    <tr>\n",
       "      <th>965</th>\n",
       "      <td>23</td>\n",
       "      <td>Female</td>\n",
       "      <td>44.1</td>\n",
       "      <td>1.62</td>\n",
       "      <td>196</td>\n",
       "      <td>122</td>\n",
       "      <td>58</td>\n",
       "      <td>0.58</td>\n",
       "      <td>354.0</td>\n",
       "      <td>Yoga</td>\n",
       "      <td>25.7</td>\n",
       "      <td>2.7</td>\n",
       "      <td>2</td>\n",
       "      <td>1</td>\n",
       "      <td>16.80</td>\n",
       "    </tr>\n",
       "    <tr>\n",
       "      <th>966</th>\n",
       "      <td>23</td>\n",
       "      <td>Male</td>\n",
       "      <td>87.3</td>\n",
       "      <td>1.91</td>\n",
       "      <td>164</td>\n",
       "      <td>129</td>\n",
       "      <td>58</td>\n",
       "      <td>1.87</td>\n",
       "      <td>1327.0</td>\n",
       "      <td>HIIT</td>\n",
       "      <td>11.8</td>\n",
       "      <td>3.5</td>\n",
       "      <td>5</td>\n",
       "      <td>3</td>\n",
       "      <td>23.93</td>\n",
       "    </tr>\n",
       "    <tr>\n",
       "      <th>967</th>\n",
       "      <td>20</td>\n",
       "      <td>Male</td>\n",
       "      <td>55.0</td>\n",
       "      <td>1.60</td>\n",
       "      <td>172</td>\n",
       "      <td>168</td>\n",
       "      <td>67</td>\n",
       "      <td>1.12</td>\n",
       "      <td>1035.0</td>\n",
       "      <td>Yoga</td>\n",
       "      <td>24.0</td>\n",
       "      <td>3.2</td>\n",
       "      <td>4</td>\n",
       "      <td>2</td>\n",
       "      <td>21.48</td>\n",
       "    </tr>\n",
       "    <tr>\n",
       "      <th>968</th>\n",
       "      <td>24</td>\n",
       "      <td>Male</td>\n",
       "      <td>87.1</td>\n",
       "      <td>1.74</td>\n",
       "      <td>187</td>\n",
       "      <td>158</td>\n",
       "      <td>67</td>\n",
       "      <td>1.57</td>\n",
       "      <td>1364.0</td>\n",
       "      <td>Strength</td>\n",
       "      <td>10.0</td>\n",
       "      <td>3.5</td>\n",
       "      <td>4</td>\n",
       "      <td>3</td>\n",
       "      <td>28.77</td>\n",
       "    </tr>\n",
       "  </tbody>\n",
       "</table>\n",
       "</div>"
      ],
      "text/plain": [
       "     Age  Gender  weight  height  Max_BPM  Avg_BPM  Resting_BPM  \\\n",
       "960   19  Female    69.2    1.60      186      155           74   \n",
       "965   23  Female    44.1    1.62      196      122           58   \n",
       "966   23    Male    87.3    1.91      164      129           58   \n",
       "967   20    Male    55.0    1.60      172      168           67   \n",
       "968   24    Male    87.1    1.74      187      158           67   \n",
       "\n",
       "     session_duration  Calories_Burned Workout_Type  Fat_Percentage  \\\n",
       "960              1.17            907.0       Cardio            32.4   \n",
       "965              0.58            354.0         Yoga            25.7   \n",
       "966              1.87           1327.0         HIIT            11.8   \n",
       "967              1.12           1035.0         Yoga            24.0   \n",
       "968              1.57           1364.0     Strength            10.0   \n",
       "\n",
       "     water_intake  workout_frequency  Experience_Level    BMI  \n",
       "960           1.6                  3                 1  27.03  \n",
       "965           2.7                  2                 1  16.80  \n",
       "966           3.5                  5                 3  23.93  \n",
       "967           3.2                  4                 2  21.48  \n",
       "968           3.5                  4                 3  28.77  "
      ]
     },
     "execution_count": 70,
     "metadata": {},
     "output_type": "execute_result"
    }
   ],
   "source": [
    "age_group_1 = df.loc[df.Age <= 24]\n",
    "age_group_2 = df.loc[(df.Age > 24) & (df.Age <= 34)]\n",
    "age_group_3 = df.loc[(df.Age > 34) & (df.Age <= 44)]\n",
    "age_group_4 = df.loc[(df.Age > 44) & (df.Age <= 54)]\n",
    "age_group_5 = df.loc[(df.Age > 54) & (df.Age <= 64)]\n",
    "age_group_1.tail()"
   ]
  },
  {
   "cell_type": "code",
   "execution_count": 71,
   "metadata": {},
   "outputs": [
    {
     "data": {
      "text/html": [
       "<div>\n",
       "<style scoped>\n",
       "    .dataframe tbody tr th:only-of-type {\n",
       "        vertical-align: middle;\n",
       "    }\n",
       "\n",
       "    .dataframe tbody tr th {\n",
       "        vertical-align: top;\n",
       "    }\n",
       "\n",
       "    .dataframe thead th {\n",
       "        text-align: right;\n",
       "    }\n",
       "</style>\n",
       "<table border=\"1\" class=\"dataframe\">\n",
       "  <thead>\n",
       "    <tr style=\"text-align: right;\">\n",
       "      <th></th>\n",
       "      <th>min</th>\n",
       "      <th>max</th>\n",
       "      <th>mean</th>\n",
       "    </tr>\n",
       "    <tr>\n",
       "      <th>Gender</th>\n",
       "      <th></th>\n",
       "      <th></th>\n",
       "      <th></th>\n",
       "    </tr>\n",
       "  </thead>\n",
       "  <tbody>\n",
       "    <tr>\n",
       "      <th>Female</th>\n",
       "      <td>40.0</td>\n",
       "      <td>79.9</td>\n",
       "      <td>60.939827</td>\n",
       "    </tr>\n",
       "    <tr>\n",
       "      <th>Male</th>\n",
       "      <td>45.0</td>\n",
       "      <td>129.9</td>\n",
       "      <td>85.531115</td>\n",
       "    </tr>\n",
       "  </tbody>\n",
       "</table>\n",
       "</div>"
      ],
      "text/plain": [
       "         min    max       mean\n",
       "Gender                        \n",
       "Female  40.0   79.9  60.939827\n",
       "Male    45.0  129.9  85.531115"
      ]
     },
     "execution_count": 71,
     "metadata": {},
     "output_type": "execute_result"
    }
   ],
   "source": [
    "weight_by_gender = df.groupby(\"Gender\")[\"weight\"].agg([\"min\", \"max\", \"mean\"])\n",
    "weight_by_gender"
   ]
  },
  {
   "cell_type": "code",
   "execution_count": 72,
   "metadata": {},
   "outputs": [
    {
     "data": {
      "text/html": [
       "<div>\n",
       "<style scoped>\n",
       "    .dataframe tbody tr th:only-of-type {\n",
       "        vertical-align: middle;\n",
       "    }\n",
       "\n",
       "    .dataframe tbody tr th {\n",
       "        vertical-align: top;\n",
       "    }\n",
       "\n",
       "    .dataframe thead th {\n",
       "        text-align: right;\n",
       "    }\n",
       "</style>\n",
       "<table border=\"1\" class=\"dataframe\">\n",
       "  <thead>\n",
       "    <tr style=\"text-align: right;\">\n",
       "      <th></th>\n",
       "      <th>Age</th>\n",
       "      <th>Gender</th>\n",
       "      <th>weight</th>\n",
       "      <th>height</th>\n",
       "      <th>Max_BPM</th>\n",
       "      <th>Avg_BPM</th>\n",
       "      <th>Resting_BPM</th>\n",
       "      <th>session_duration</th>\n",
       "      <th>Calories_Burned</th>\n",
       "      <th>Workout_Type</th>\n",
       "      <th>Fat_Percentage</th>\n",
       "      <th>water_intake</th>\n",
       "      <th>workout_frequency</th>\n",
       "      <th>Experience_Level</th>\n",
       "      <th>BMI</th>\n",
       "    </tr>\n",
       "  </thead>\n",
       "  <tbody>\n",
       "    <tr>\n",
       "      <th>593</th>\n",
       "      <td>55</td>\n",
       "      <td>Male</td>\n",
       "      <td>129.9</td>\n",
       "      <td>1.73</td>\n",
       "      <td>187</td>\n",
       "      <td>155</td>\n",
       "      <td>60</td>\n",
       "      <td>0.69</td>\n",
       "      <td>529.0</td>\n",
       "      <td>Yoga</td>\n",
       "      <td>21.7</td>\n",
       "      <td>3.1</td>\n",
       "      <td>3</td>\n",
       "      <td>1</td>\n",
       "      <td>43.4</td>\n",
       "    </tr>\n",
       "  </tbody>\n",
       "</table>\n",
       "</div>"
      ],
      "text/plain": [
       "     Age Gender  weight  height  Max_BPM  Avg_BPM  Resting_BPM  \\\n",
       "593   55   Male   129.9    1.73      187      155           60   \n",
       "\n",
       "     session_duration  Calories_Burned Workout_Type  Fat_Percentage  \\\n",
       "593              0.69            529.0         Yoga            21.7   \n",
       "\n",
       "     water_intake  workout_frequency  Experience_Level   BMI  \n",
       "593           3.1                  3                 1  43.4  "
      ]
     },
     "execution_count": 72,
     "metadata": {},
     "output_type": "execute_result"
    }
   ],
   "source": [
    "heaviest_male = df.loc[df['weight'] == 129.9]\n",
    "heaviest_male"
   ]
  },
  {
   "cell_type": "code",
   "execution_count": 73,
   "metadata": {},
   "outputs": [
    {
     "data": {
      "text/html": [
       "<div>\n",
       "<style scoped>\n",
       "    .dataframe tbody tr th:only-of-type {\n",
       "        vertical-align: middle;\n",
       "    }\n",
       "\n",
       "    .dataframe tbody tr th {\n",
       "        vertical-align: top;\n",
       "    }\n",
       "\n",
       "    .dataframe thead th {\n",
       "        text-align: right;\n",
       "    }\n",
       "</style>\n",
       "<table border=\"1\" class=\"dataframe\">\n",
       "  <thead>\n",
       "    <tr style=\"text-align: right;\">\n",
       "      <th></th>\n",
       "      <th>Age</th>\n",
       "      <th>Gender</th>\n",
       "      <th>weight</th>\n",
       "      <th>height</th>\n",
       "      <th>Max_BPM</th>\n",
       "      <th>Avg_BPM</th>\n",
       "      <th>Resting_BPM</th>\n",
       "      <th>session_duration</th>\n",
       "      <th>Calories_Burned</th>\n",
       "      <th>Workout_Type</th>\n",
       "      <th>Fat_Percentage</th>\n",
       "      <th>water_intake</th>\n",
       "      <th>workout_frequency</th>\n",
       "      <th>Experience_Level</th>\n",
       "      <th>BMI</th>\n",
       "    </tr>\n",
       "  </thead>\n",
       "  <tbody>\n",
       "    <tr>\n",
       "      <th>643</th>\n",
       "      <td>52</td>\n",
       "      <td>Female</td>\n",
       "      <td>79.9</td>\n",
       "      <td>1.51</td>\n",
       "      <td>190</td>\n",
       "      <td>142</td>\n",
       "      <td>54</td>\n",
       "      <td>0.75</td>\n",
       "      <td>479.0</td>\n",
       "      <td>Strength</td>\n",
       "      <td>31.5</td>\n",
       "      <td>2.6</td>\n",
       "      <td>3</td>\n",
       "      <td>1</td>\n",
       "      <td>35.04</td>\n",
       "    </tr>\n",
       "  </tbody>\n",
       "</table>\n",
       "</div>"
      ],
      "text/plain": [
       "     Age  Gender  weight  height  Max_BPM  Avg_BPM  Resting_BPM  \\\n",
       "643   52  Female    79.9    1.51      190      142           54   \n",
       "\n",
       "     session_duration  Calories_Burned Workout_Type  Fat_Percentage  \\\n",
       "643              0.75            479.0     Strength            31.5   \n",
       "\n",
       "     water_intake  workout_frequency  Experience_Level    BMI  \n",
       "643           2.6                  3                 1  35.04  "
      ]
     },
     "execution_count": 73,
     "metadata": {},
     "output_type": "execute_result"
    }
   ],
   "source": [
    "df_females = df.loc[df.Gender == \"Female\"]\n",
    "heaviest_female = df_females.loc[df['weight'] == df_females['weight'].max()]\n",
    "heaviest_female\n"
   ]
  },
  {
   "cell_type": "markdown",
   "metadata": {},
   "source": [
    "## Workout types"
   ]
  },
  {
   "cell_type": "code",
   "execution_count": 75,
   "metadata": {},
   "outputs": [
    {
     "data": {
      "image/png": "[encoded data removed]",
      "text/plain": [
       "<Figure size 640x480 with 1 Axes>"
      ]
     },
     "metadata": {},
     "output_type": "display_data"
    }
   ],
   "source": [
    "df[\"Workout_Type\"].value_counts().plot(kind=\"bar\")\n",
    "plt.title('Workout types')\n",
    "plt.xlabel('type')\n",
    "plt.ylabel('count')\n",
    "plt.xticks(rotation=0)\n",
    "plt.show()"
   ]
  },
  {
   "cell_type": "code",
   "execution_count": 76,
   "metadata": {},
   "outputs": [
    {
     "data": {
      "text/plain": [
       "Gender  Workout_Type\n",
       "Female  Cardio          126\n",
       "        Strength        123\n",
       "        HIIT            107\n",
       "        Yoga            106\n",
       "Male    Strength        135\n",
       "        Yoga            133\n",
       "        Cardio          129\n",
       "        HIIT            114\n",
       "Name: count, dtype: int64"
      ]
     },
     "execution_count": 76,
     "metadata": {},
     "output_type": "execute_result"
    }
   ],
   "source": [
    "workout_type_by_gender = df.groupby(\"Gender\")[\"Workout_Type\"].value_counts()\n",
    "workout_type_by_gender"
   ]
  },
  {
   "cell_type": "markdown",
   "metadata": {},
   "source": [
    "## Misc"
   ]
  },
  {
   "cell_type": "code",
   "execution_count": 77,
   "metadata": {},
   "outputs": [
    {
     "data": {
      "text/plain": [
       "Text(0, 0.5, 'Calories burned')"
      ]
     },
     "execution_count": 77,
     "metadata": {},
     "output_type": "execute_result"
    },
    {
     "data": {
      "image/png": "[encoded data removed]",
      "text/plain": [
       "<Figure size 1000x500 with 1 Axes>"
      ]
     },
     "metadata": {},
     "output_type": "display_data"
    }
   ],
   "source": [
    "fig, ax = plt.subplots(1, 1, figsize=(10, 5))\n",
    "ax.set_title(\"Relationship between session length and burned calories\")\n",
    "ax.scatter(df[\"session_duration\"], df[\"Calories_Burned\"], s=1)\n",
    "ax.set_xlabel(\"Session duration (hours)\")\n",
    "ax.set_ylabel(\"Calories burned\")"
   ]
  },
  {
   "cell_type": "code",
   "execution_count": null,
   "metadata": {},
   "outputs": [],
   "source": [
    "fig, ax = plt.subplots(1, 1, figsize=(10, 5))\n",
    "ax.set_title(\"Relationship between height and weight\")\n",
    "ax.scatter(df[\"height\"], df[\"weight\"], s=1)\n",
    "ax.set_xlabel(\"Session duration (hours)\")\n",
    "ax.set_ylabel(\"Calories burned\")"
   ]
  },
  {
   "cell_type": "code",
   "execution_count": 78,
   "metadata": {},
   "outputs": [
    {
     "name": "stdout",
     "output_type": "stream",
     "text": [
      "Calories burned by workout type:\n"
     ]
    },
    {
     "data": {
      "text/html": [
       "<div>\n",
       "<style scoped>\n",
       "    .dataframe tbody tr th:only-of-type {\n",
       "        vertical-align: middle;\n",
       "    }\n",
       "\n",
       "    .dataframe tbody tr th {\n",
       "        vertical-align: top;\n",
       "    }\n",
       "\n",
       "    .dataframe thead th {\n",
       "        text-align: right;\n",
       "    }\n",
       "</style>\n",
       "<table border=\"1\" class=\"dataframe\">\n",
       "  <thead>\n",
       "    <tr style=\"text-align: right;\">\n",
       "      <th></th>\n",
       "      <th>min</th>\n",
       "      <th>max</th>\n",
       "      <th>mean</th>\n",
       "    </tr>\n",
       "    <tr>\n",
       "      <th>Workout_Type</th>\n",
       "      <th></th>\n",
       "      <th></th>\n",
       "      <th></th>\n",
       "    </tr>\n",
       "  </thead>\n",
       "  <tbody>\n",
       "    <tr>\n",
       "      <th>Cardio</th>\n",
       "      <td>303.0</td>\n",
       "      <td>1625.0</td>\n",
       "      <td>884.513725</td>\n",
       "    </tr>\n",
       "    <tr>\n",
       "      <th>HIIT</th>\n",
       "      <td>333.0</td>\n",
       "      <td>1766.0</td>\n",
       "      <td>925.805430</td>\n",
       "    </tr>\n",
       "    <tr>\n",
       "      <th>Strength</th>\n",
       "      <td>350.0</td>\n",
       "      <td>1783.0</td>\n",
       "      <td>910.697674</td>\n",
       "    </tr>\n",
       "    <tr>\n",
       "      <th>Yoga</th>\n",
       "      <td>330.0</td>\n",
       "      <td>1582.0</td>\n",
       "      <td>903.188285</td>\n",
       "    </tr>\n",
       "  </tbody>\n",
       "</table>\n",
       "</div>"
      ],
      "text/plain": [
       "                min     max        mean\n",
       "Workout_Type                           \n",
       "Cardio        303.0  1625.0  884.513725\n",
       "HIIT          333.0  1766.0  925.805430\n",
       "Strength      350.0  1783.0  910.697674\n",
       "Yoga          330.0  1582.0  903.188285"
      ]
     },
     "execution_count": 78,
     "metadata": {},
     "output_type": "execute_result"
    }
   ],
   "source": [
    "print(\"Calories burned by workout type:\")\n",
    "df.groupby(\"Workout_Type\").Calories_Burned.agg([\"min\", \"max\", \"mean\"])"
   ]
  },
  {
   "cell_type": "code",
   "execution_count": 99,
   "metadata": {},
   "outputs": [
    {
     "data": {
      "text/html": [
       "<div>\n",
       "<style scoped>\n",
       "    .dataframe tbody tr th:only-of-type {\n",
       "        vertical-align: middle;\n",
       "    }\n",
       "\n",
       "    .dataframe tbody tr th {\n",
       "        vertical-align: top;\n",
       "    }\n",
       "\n",
       "    .dataframe thead th {\n",
       "        text-align: right;\n",
       "    }\n",
       "</style>\n",
       "<table border=\"1\" class=\"dataframe\">\n",
       "  <thead>\n",
       "    <tr style=\"text-align: right;\">\n",
       "      <th></th>\n",
       "      <th>mean</th>\n",
       "    </tr>\n",
       "    <tr>\n",
       "      <th>Age</th>\n",
       "      <th></th>\n",
       "    </tr>\n",
       "  </thead>\n",
       "  <tbody>\n",
       "    <tr>\n",
       "      <th>18</th>\n",
       "      <td>180.777778</td>\n",
       "    </tr>\n",
       "    <tr>\n",
       "      <th>19</th>\n",
       "      <td>183.884615</td>\n",
       "    </tr>\n",
       "    <tr>\n",
       "      <th>20</th>\n",
       "      <td>178.640000</td>\n",
       "    </tr>\n",
       "    <tr>\n",
       "      <th>21</th>\n",
       "      <td>177.400000</td>\n",
       "    </tr>\n",
       "    <tr>\n",
       "      <th>22</th>\n",
       "      <td>177.962963</td>\n",
       "    </tr>\n",
       "  </tbody>\n",
       "</table>\n",
       "</div>"
      ],
      "text/plain": [
       "           mean\n",
       "Age            \n",
       "18   180.777778\n",
       "19   183.884615\n",
       "20   178.640000\n",
       "21   177.400000\n",
       "22   177.962963"
      ]
     },
     "execution_count": 99,
     "metadata": {},
     "output_type": "execute_result"
    }
   ],
   "source": [
    "df_grouped_by_age = df.groupby(\"Age\")['Max_BPM'].agg(['mean'])\n",
    "df_grouped_by_age.head()"
   ]
  },
  {
   "cell_type": "code",
   "execution_count": 101,
   "metadata": {},
   "outputs": [
    {
     "data": {
      "text/plain": [
       "Index([18, 19, 20, 21, 22, 23, 24, 25, 26, 27, 28, 29, 30, 31, 32, 33, 34, 35,\n",
       "       36, 37, 38, 39, 40, 41, 42, 43, 44, 45, 46, 47, 48, 49, 50, 51, 52, 53,\n",
       "       54, 55, 56, 57, 58, 59],\n",
       "      dtype='int64', name='Age')"
      ]
     },
     "execution_count": 101,
     "metadata": {},
     "output_type": "execute_result"
    }
   ],
   "source": [
    "df_grouped_by_age.index"
   ]
  },
  {
   "cell_type": "code",
   "execution_count": 102,
   "metadata": {},
   "outputs": [
    {
     "data": {
      "text/plain": [
       "Text(0, 0.5, 'Max_BPM')"
      ]
     },
     "execution_count": 102,
     "metadata": {},
     "output_type": "execute_result"
    },
    {
     "data": {
      "image/png": "[encoded data removed]",
      "text/plain": [
       "<Figure size 640x480 with 1 Axes>"
      ]
     },
     "metadata": {},
     "output_type": "display_data"
    }
   ],
   "source": [
    "fig, ax = plt.subplots()\n",
    "ax.set_title(\"How does the average Max_BPM change with age?\")\n",
    "ax.plot(df_grouped_by_age.index, df_grouped_by_age['mean'])\n",
    "ax.set_xlabel(\"Age\")\n",
    "ax.set_ylabel(\"Max_BPM\")"
   ]
  },
  {
   "cell_type": "code",
   "execution_count": null,
   "metadata": {},
   "outputs": [],
   "source": []
  }
 ],
 "metadata": {
  "kernelspec": {
   "display_name": "ML_github",
   "language": "python",
   "name": "python3"
  },
  "language_info": {
   "codemirror_mode": {
    "name": "ipython",
    "version": 3
   },
   "file_extension": ".py",
   "mimetype": "text/x-python",
   "name": "python",
   "nbconvert_exporter": "python",
   "pygments_lexer": "ipython3",
   "version": "3.12.7"
  }
 },
 "nbformat": 4,
 "nbformat_minor": 2
}
