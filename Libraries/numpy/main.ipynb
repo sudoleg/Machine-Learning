{
 "cells": [
  {
   "cell_type": "code",
   "execution_count": 1,
   "metadata": {},
   "outputs": [],
   "source": [
    "import numpy as np"
   ]
  },
  {
   "cell_type": "code",
   "execution_count": 5,
   "metadata": {},
   "outputs": [],
   "source": [
    "# Graded cell\n",
    "def center_data(Y):\n",
    "    \"\"\"\n",
    "    Center your original data\n",
    "    Args:\n",
    "         Y (ndarray): input data. Shape (n_observations x n_pixels)\n",
    "    Outputs:\n",
    "        X (ndarray): centered data\n",
    "    \"\"\"\n",
    "    ### START CODE HERE ###\n",
    "    mean_vector = np.mean(Y, axis=0)\n",
    "    print(\"Mean vector\", mean_vector)\n",
    "    print(\"--------------------\")\n",
    "    mean_matrix = np.repeat(mean_vector, Y.shape[0])\n",
    "    print(\"Mean matrix\", mean_matrix)\n",
    "    print(\"--------------------\")\n",
    "    # use np.reshape to reshape into a matrix with the same size as Y. Remember to use order='F'\n",
    "    mean_matrix = np.reshape(mean_matrix, Y.shape, order='F')\n",
    "    print(\"Mean matrix reshaped\", mean_matrix)\n",
    "    \n",
    "    X = Y - mean_matrix\n",
    "    ### END CODE HERE ###\n",
    "    return X"
   ]
  },
  {
   "cell_type": "code",
   "execution_count": 6,
   "metadata": {},
   "outputs": [
    {
     "name": "stdout",
     "output_type": "stream",
     "text": [
      "Mean vector [4. 5. 6.]\n",
      "--------------------\n",
      "Mean matrix [4. 4. 4. 5. 5. 5. 6. 6. 6.]\n",
      "--------------------\n",
      "Mean matrix reshaped [[4. 5. 6.]\n",
      " [4. 5. 6.]\n",
      " [4. 5. 6.]]\n"
     ]
    },
    {
     "data": {
      "text/plain": [
       "array([[-3., -3., -3.],\n",
       "       [ 0.,  0.,  0.],\n",
       "       [ 3.,  3.,  3.]])"
      ]
     },
     "execution_count": 6,
     "metadata": {},
     "output_type": "execute_result"
    }
   ],
   "source": [
    "A1 = np.array([[1, 2, 3], \n",
    "               [4, 5, 6],\n",
    "               [7, 8, 9]])\n",
    "center_data(A1.transpose())"
   ]
  },
  {
   "cell_type": "code",
   "execution_count": null,
   "metadata": {},
   "outputs": [],
   "source": []
  }
 ],
 "metadata": {
  "kernelspec": {
   "display_name": "ML_github",
   "language": "python",
   "name": "python3"
  },
  "language_info": {
   "codemirror_mode": {
    "name": "ipython",
    "version": 3
   },
   "file_extension": ".py",
   "mimetype": "text/x-python",
   "name": "python",
   "nbconvert_exporter": "python",
   "pygments_lexer": "ipython3",
   "version": "3.12.7"
  }
 },
 "nbformat": 4,
 "nbformat_minor": 2
}
