{
 "cells": [
  {
   "cell_type": "markdown",
   "metadata": {},
   "source": [
    "# Data exploration"
   ]
  },
  {
   "cell_type": "code",
   "execution_count": 1,
   "metadata": {},
   "outputs": [
    {
     "data": {
      "text/html": [
       "<div>\n",
       "<style scoped>\n",
       "    .dataframe tbody tr th:only-of-type {\n",
       "        vertical-align: middle;\n",
       "    }\n",
       "\n",
       "    .dataframe tbody tr th {\n",
       "        vertical-align: top;\n",
       "    }\n",
       "\n",
       "    .dataframe thead th {\n",
       "        text-align: right;\n",
       "    }\n",
       "</style>\n",
       "<table border=\"1\" class=\"dataframe\">\n",
       "  <thead>\n",
       "    <tr style=\"text-align: right;\">\n",
       "      <th></th>\n",
       "      <th>sex</th>\n",
       "      <th>age</th>\n",
       "      <th>education</th>\n",
       "      <th>smokingStatus</th>\n",
       "      <th>cigsPerDay</th>\n",
       "      <th>BPMeds</th>\n",
       "      <th>prevalentStroke</th>\n",
       "      <th>prevalentHyp</th>\n",
       "      <th>diabetes</th>\n",
       "      <th>totChol</th>\n",
       "      <th>sysBP</th>\n",
       "      <th>diaBP</th>\n",
       "      <th>BMI</th>\n",
       "      <th>heartRate</th>\n",
       "      <th>glucose</th>\n",
       "      <th>CHDRisk</th>\n",
       "    </tr>\n",
       "  </thead>\n",
       "  <tbody>\n",
       "    <tr>\n",
       "      <th>0</th>\n",
       "      <td>male</td>\n",
       "      <td>39</td>\n",
       "      <td>4</td>\n",
       "      <td>no</td>\n",
       "      <td>0</td>\n",
       "      <td>0</td>\n",
       "      <td>0</td>\n",
       "      <td>0</td>\n",
       "      <td>no</td>\n",
       "      <td>195</td>\n",
       "      <td>106.0</td>\n",
       "      <td>70.0</td>\n",
       "      <td>26.97</td>\n",
       "      <td>80</td>\n",
       "      <td>77</td>\n",
       "      <td>no</td>\n",
       "    </tr>\n",
       "    <tr>\n",
       "      <th>1</th>\n",
       "      <td>female</td>\n",
       "      <td>46</td>\n",
       "      <td>2</td>\n",
       "      <td>no</td>\n",
       "      <td>0</td>\n",
       "      <td>0</td>\n",
       "      <td>0</td>\n",
       "      <td>0</td>\n",
       "      <td>no</td>\n",
       "      <td>250</td>\n",
       "      <td>121.0</td>\n",
       "      <td>81.0</td>\n",
       "      <td>28.73</td>\n",
       "      <td>95</td>\n",
       "      <td>76</td>\n",
       "      <td>no</td>\n",
       "    </tr>\n",
       "    <tr>\n",
       "      <th>2</th>\n",
       "      <td>male</td>\n",
       "      <td>48</td>\n",
       "      <td>1</td>\n",
       "      <td>yes</td>\n",
       "      <td>20</td>\n",
       "      <td>0</td>\n",
       "      <td>0</td>\n",
       "      <td>0</td>\n",
       "      <td>no</td>\n",
       "      <td>245</td>\n",
       "      <td>127.5</td>\n",
       "      <td>80.0</td>\n",
       "      <td>25.34</td>\n",
       "      <td>75</td>\n",
       "      <td>70</td>\n",
       "      <td>no</td>\n",
       "    </tr>\n",
       "    <tr>\n",
       "      <th>3</th>\n",
       "      <td>female</td>\n",
       "      <td>61</td>\n",
       "      <td>3</td>\n",
       "      <td>yes</td>\n",
       "      <td>30</td>\n",
       "      <td>0</td>\n",
       "      <td>0</td>\n",
       "      <td>1</td>\n",
       "      <td>no</td>\n",
       "      <td>225</td>\n",
       "      <td>150.0</td>\n",
       "      <td>95.0</td>\n",
       "      <td>28.58</td>\n",
       "      <td>65</td>\n",
       "      <td>103</td>\n",
       "      <td>yes</td>\n",
       "    </tr>\n",
       "    <tr>\n",
       "      <th>4</th>\n",
       "      <td>female</td>\n",
       "      <td>46</td>\n",
       "      <td>3</td>\n",
       "      <td>yes</td>\n",
       "      <td>23</td>\n",
       "      <td>0</td>\n",
       "      <td>0</td>\n",
       "      <td>0</td>\n",
       "      <td>no</td>\n",
       "      <td>285</td>\n",
       "      <td>130.0</td>\n",
       "      <td>84.0</td>\n",
       "      <td>23.10</td>\n",
       "      <td>85</td>\n",
       "      <td>85</td>\n",
       "      <td>no</td>\n",
       "    </tr>\n",
       "  </tbody>\n",
       "</table>\n",
       "</div>"
      ],
      "text/plain": [
       "      sex  age  education smokingStatus  cigsPerDay  BPMeds  prevalentStroke  \\\n",
       "0    male   39          4            no           0       0                0   \n",
       "1  female   46          2            no           0       0                0   \n",
       "2    male   48          1           yes          20       0                0   \n",
       "3  female   61          3           yes          30       0                0   \n",
       "4  female   46          3           yes          23       0                0   \n",
       "\n",
       "   prevalentHyp diabetes  totChol  sysBP  diaBP    BMI  heartRate  glucose  \\\n",
       "0             0       no      195  106.0   70.0  26.97         80       77   \n",
       "1             0       no      250  121.0   81.0  28.73         95       76   \n",
       "2             0       no      245  127.5   80.0  25.34         75       70   \n",
       "3             1       no      225  150.0   95.0  28.58         65      103   \n",
       "4             0       no      285  130.0   84.0  23.10         85       85   \n",
       "\n",
       "  CHDRisk  \n",
       "0      no  \n",
       "1      no  \n",
       "2      no  \n",
       "3     yes  \n",
       "4      no  "
      ]
     },
     "execution_count": 1,
     "metadata": {},
     "output_type": "execute_result"
    },
    {
     "data": {
      "text/plain": [
       "<Figure size 640x480 with 0 Axes>"
      ]
     },
     "metadata": {},
     "output_type": "display_data"
    }
   ],
   "source": [
    "import pandas as pd\n",
    "\n",
    "import matplotlib.pyplot as plt\n",
    "plt.tight_layout()\n",
    "\n",
    "import seaborn as sns\n",
    "\n",
    "df = pd.read_csv('./datasets/heart_disease.csv')\n",
    "df.head()"
   ]
  },
  {
   "cell_type": "code",
   "execution_count": 2,
   "metadata": {},
   "outputs": [
    {
     "name": "stdout",
     "output_type": "stream",
     "text": [
      "The dataset has 3674 rows and 16 columns.\n"
     ]
    }
   ],
   "source": [
    "shape = df.shape\n",
    "print(f\"The dataset has {shape[0]} rows and {shape[1]} columns.\")"
   ]
  },
  {
   "cell_type": "code",
   "execution_count": 3,
   "metadata": {},
   "outputs": [
    {
     "data": {
      "text/html": [
       "<div>\n",
       "<style scoped>\n",
       "    .dataframe tbody tr th:only-of-type {\n",
       "        vertical-align: middle;\n",
       "    }\n",
       "\n",
       "    .dataframe tbody tr th {\n",
       "        vertical-align: top;\n",
       "    }\n",
       "\n",
       "    .dataframe thead th {\n",
       "        text-align: right;\n",
       "    }\n",
       "</style>\n",
       "<table border=\"1\" class=\"dataframe\">\n",
       "  <thead>\n",
       "    <tr style=\"text-align: right;\">\n",
       "      <th></th>\n",
       "      <th>age</th>\n",
       "      <th>education</th>\n",
       "      <th>cigsPerDay</th>\n",
       "      <th>BPMeds</th>\n",
       "      <th>prevalentStroke</th>\n",
       "      <th>prevalentHyp</th>\n",
       "      <th>totChol</th>\n",
       "      <th>sysBP</th>\n",
       "      <th>diaBP</th>\n",
       "      <th>BMI</th>\n",
       "      <th>heartRate</th>\n",
       "      <th>glucose</th>\n",
       "    </tr>\n",
       "  </thead>\n",
       "  <tbody>\n",
       "    <tr>\n",
       "      <th>count</th>\n",
       "      <td>3674.000000</td>\n",
       "      <td>3674.000000</td>\n",
       "      <td>3674.000000</td>\n",
       "      <td>3674.000000</td>\n",
       "      <td>3674.000000</td>\n",
       "      <td>3674.000000</td>\n",
       "      <td>3674.000000</td>\n",
       "      <td>3674.00000</td>\n",
       "      <td>3674.000000</td>\n",
       "      <td>3674.000000</td>\n",
       "      <td>3674.000000</td>\n",
       "      <td>3674.000000</td>\n",
       "    </tr>\n",
       "    <tr>\n",
       "      <th>mean</th>\n",
       "      <td>49.577300</td>\n",
       "      <td>1.984213</td>\n",
       "      <td>9.092270</td>\n",
       "      <td>0.030212</td>\n",
       "      <td>0.005716</td>\n",
       "      <td>0.310016</td>\n",
       "      <td>236.761840</td>\n",
       "      <td>132.38024</td>\n",
       "      <td>82.906505</td>\n",
       "      <td>25.783038</td>\n",
       "      <td>75.719652</td>\n",
       "      <td>81.769461</td>\n",
       "    </tr>\n",
       "    <tr>\n",
       "      <th>std</th>\n",
       "      <td>8.546068</td>\n",
       "      <td>1.022891</td>\n",
       "      <td>11.938399</td>\n",
       "      <td>0.171194</td>\n",
       "      <td>0.075397</td>\n",
       "      <td>0.462563</td>\n",
       "      <td>44.039295</td>\n",
       "      <td>22.04683</td>\n",
       "      <td>11.948024</td>\n",
       "      <td>4.056048</td>\n",
       "      <td>11.957171</td>\n",
       "      <td>23.884454</td>\n",
       "    </tr>\n",
       "    <tr>\n",
       "      <th>min</th>\n",
       "      <td>32.000000</td>\n",
       "      <td>1.000000</td>\n",
       "      <td>0.000000</td>\n",
       "      <td>0.000000</td>\n",
       "      <td>0.000000</td>\n",
       "      <td>0.000000</td>\n",
       "      <td>113.000000</td>\n",
       "      <td>83.50000</td>\n",
       "      <td>48.000000</td>\n",
       "      <td>15.540000</td>\n",
       "      <td>44.000000</td>\n",
       "      <td>40.000000</td>\n",
       "    </tr>\n",
       "    <tr>\n",
       "      <th>25%</th>\n",
       "      <td>42.000000</td>\n",
       "      <td>1.000000</td>\n",
       "      <td>0.000000</td>\n",
       "      <td>0.000000</td>\n",
       "      <td>0.000000</td>\n",
       "      <td>0.000000</td>\n",
       "      <td>206.000000</td>\n",
       "      <td>117.00000</td>\n",
       "      <td>75.000000</td>\n",
       "      <td>23.080000</td>\n",
       "      <td>68.000000</td>\n",
       "      <td>71.000000</td>\n",
       "    </tr>\n",
       "    <tr>\n",
       "      <th>50%</th>\n",
       "      <td>49.000000</td>\n",
       "      <td>2.000000</td>\n",
       "      <td>0.000000</td>\n",
       "      <td>0.000000</td>\n",
       "      <td>0.000000</td>\n",
       "      <td>0.000000</td>\n",
       "      <td>234.000000</td>\n",
       "      <td>128.00000</td>\n",
       "      <td>82.000000</td>\n",
       "      <td>25.400000</td>\n",
       "      <td>75.000000</td>\n",
       "      <td>78.000000</td>\n",
       "    </tr>\n",
       "    <tr>\n",
       "      <th>75%</th>\n",
       "      <td>56.000000</td>\n",
       "      <td>3.000000</td>\n",
       "      <td>20.000000</td>\n",
       "      <td>0.000000</td>\n",
       "      <td>0.000000</td>\n",
       "      <td>1.000000</td>\n",
       "      <td>263.000000</td>\n",
       "      <td>143.50000</td>\n",
       "      <td>89.500000</td>\n",
       "      <td>27.990000</td>\n",
       "      <td>82.000000</td>\n",
       "      <td>87.000000</td>\n",
       "    </tr>\n",
       "    <tr>\n",
       "      <th>max</th>\n",
       "      <td>70.000000</td>\n",
       "      <td>4.000000</td>\n",
       "      <td>70.000000</td>\n",
       "      <td>1.000000</td>\n",
       "      <td>1.000000</td>\n",
       "      <td>1.000000</td>\n",
       "      <td>600.000000</td>\n",
       "      <td>295.00000</td>\n",
       "      <td>142.500000</td>\n",
       "      <td>56.800000</td>\n",
       "      <td>143.000000</td>\n",
       "      <td>394.000000</td>\n",
       "    </tr>\n",
       "  </tbody>\n",
       "</table>\n",
       "</div>"
      ],
      "text/plain": [
       "               age    education   cigsPerDay       BPMeds  prevalentStroke  \\\n",
       "count  3674.000000  3674.000000  3674.000000  3674.000000      3674.000000   \n",
       "mean     49.577300     1.984213     9.092270     0.030212         0.005716   \n",
       "std       8.546068     1.022891    11.938399     0.171194         0.075397   \n",
       "min      32.000000     1.000000     0.000000     0.000000         0.000000   \n",
       "25%      42.000000     1.000000     0.000000     0.000000         0.000000   \n",
       "50%      49.000000     2.000000     0.000000     0.000000         0.000000   \n",
       "75%      56.000000     3.000000    20.000000     0.000000         0.000000   \n",
       "max      70.000000     4.000000    70.000000     1.000000         1.000000   \n",
       "\n",
       "       prevalentHyp      totChol       sysBP        diaBP          BMI  \\\n",
       "count   3674.000000  3674.000000  3674.00000  3674.000000  3674.000000   \n",
       "mean       0.310016   236.761840   132.38024    82.906505    25.783038   \n",
       "std        0.462563    44.039295    22.04683    11.948024     4.056048   \n",
       "min        0.000000   113.000000    83.50000    48.000000    15.540000   \n",
       "25%        0.000000   206.000000   117.00000    75.000000    23.080000   \n",
       "50%        0.000000   234.000000   128.00000    82.000000    25.400000   \n",
       "75%        1.000000   263.000000   143.50000    89.500000    27.990000   \n",
       "max        1.000000   600.000000   295.00000   142.500000    56.800000   \n",
       "\n",
       "         heartRate      glucose  \n",
       "count  3674.000000  3674.000000  \n",
       "mean     75.719652    81.769461  \n",
       "std      11.957171    23.884454  \n",
       "min      44.000000    40.000000  \n",
       "25%      68.000000    71.000000  \n",
       "50%      75.000000    78.000000  \n",
       "75%      82.000000    87.000000  \n",
       "max     143.000000   394.000000  "
      ]
     },
     "execution_count": 3,
     "metadata": {},
     "output_type": "execute_result"
    }
   ],
   "source": [
    "df.describe()"
   ]
  },
  {
   "cell_type": "code",
   "execution_count": 4,
   "metadata": {},
   "outputs": [
    {
     "data": {
      "text/plain": [
       "sex                 object\n",
       "age                  int64\n",
       "education            int64\n",
       "smokingStatus       object\n",
       "cigsPerDay           int64\n",
       "BPMeds               int64\n",
       "prevalentStroke      int64\n",
       "prevalentHyp         int64\n",
       "diabetes            object\n",
       "totChol              int64\n",
       "sysBP              float64\n",
       "diaBP              float64\n",
       "BMI                float64\n",
       "heartRate            int64\n",
       "glucose              int64\n",
       "CHDRisk             object\n",
       "dtype: object"
      ]
     },
     "execution_count": 4,
     "metadata": {},
     "output_type": "execute_result"
    }
   ],
   "source": [
    "df.dtypes"
   ]
  },
  {
   "cell_type": "code",
   "execution_count": null,
   "metadata": {},
   "outputs": [],
   "source": [
    "categorical_columns = ['sex', 'education', 'BPMeds', 'prevalentStroke', 'prevalentHyp', 'smokingStatus', 'diabetes', 'CHDRisk']\n",
    "\n",
    "# print unique values for categorical columns\n",
    "for col in categorical_columns:\n",
    "    print(f\"{col}: {df[col].unique()}\")"
   ]
  },
  {
   "cell_type": "markdown",
   "metadata": {},
   "source": [
    "# Data preparation"
   ]
  },
  {
   "cell_type": "code",
   "execution_count": null,
   "metadata": {},
   "outputs": [],
   "source": [
    "# remove rows where smoking status is missing\n",
    "df = df.dropna(subset=['smokingStatus'])"
   ]
  },
  {
   "cell_type": "code",
   "execution_count": null,
   "metadata": {},
   "outputs": [],
   "source": [
    "df = df.dropna(subset=['sex'])\n",
    "\n",
    "df['sex'] = df['sex'].map({'male': 0, 'female': 1})"
   ]
  },
  {
   "cell_type": "code",
   "execution_count": null,
   "metadata": {},
   "outputs": [],
   "source": [
    "# Map the Values: Use the map function to convert ‘no’ to 0 and ‘yes’ to 1\n",
    "\n",
    "df['smokingStatus'] = df['smokingStatus'].map({'no': 0, 'yes': 1})\n",
    "df['diabetes'] = df['diabetes'].map({'no': 0, 'yes': 1})\n",
    "df['CHDRisk'] = df['CHDRisk'].map({'no': 0, 'yes': 1})"
   ]
  },
  {
   "cell_type": "markdown",
   "metadata": {},
   "source": [
    "# Data visualization"
   ]
  },
  {
   "cell_type": "markdown",
   "metadata": {},
   "source": [
    "## Numerical values distribution"
   ]
  },
  {
   "cell_type": "code",
   "execution_count": null,
   "metadata": {},
   "outputs": [],
   "source": [
    "df.hist(bins=30, figsize=(20, 15))\n",
    "plt.show()"
   ]
  },
  {
   "cell_type": "markdown",
   "metadata": {},
   "source": [
    "## Count plots for categorical values"
   ]
  },
  {
   "cell_type": "code",
   "execution_count": null,
   "metadata": {},
   "outputs": [],
   "source": [
    "# Plot count plots for categorical columns\n",
    "\n",
    "for column in categorical_columns:\n",
    "    plt.figure(figsize=(8, 6))\n",
    "    sns.countplot(data=df, x=column)\n",
    "    plt.title(f'Count Plot for {column}')\n",
    "    plt.show()"
   ]
  },
  {
   "cell_type": "markdown",
   "metadata": {},
   "source": [
    "## Box plots to explore relationships"
   ]
  },
  {
   "cell_type": "code",
   "execution_count": null,
   "metadata": {},
   "outputs": [],
   "source": [
    "# Example: Relationship between CHDRisk and heart rate\n",
    "plt.figure(figsize=(8, 6))\n",
    "sns.boxplot(data=df, x='CHDRisk', y='heartRate')\n",
    "plt.title('Box Plot of resting heart rate vs. CHDRisk')\n",
    "plt.show()"
   ]
  },
  {
   "cell_type": "code",
   "execution_count": null,
   "metadata": {},
   "outputs": [],
   "source": [
    "plt.figure(figsize=(8, 6))\n",
    "sns.boxplot(data=df, x='CHDRisk', y='totChol')\n",
    "plt.title('Box Plot of total cholesterol vs. CHDRisk')\n",
    "plt.show()"
   ]
  },
  {
   "cell_type": "code",
   "execution_count": null,
   "metadata": {},
   "outputs": [],
   "source": [
    "plt.figure(figsize=(8, 6))\n",
    "sns.boxplot(data=df, x='CHDRisk', y='cigsPerDay')\n",
    "plt.title('Box Plot of cigs per day rate vs. CHDRisk')\n",
    "plt.show()"
   ]
  },
  {
   "cell_type": "markdown",
   "metadata": {},
   "source": [
    "# Correlation analysis"
   ]
  },
  {
   "cell_type": "code",
   "execution_count": null,
   "metadata": {},
   "outputs": [],
   "source": [
    "correlation_matrix = df.corr()\n",
    "print(correlation_matrix)\n",
    "\n",
    "# Visualize the correlation matrix using a heatmap\n",
    "plt.figure(figsize=(12, 8))\n",
    "sns.heatmap(correlation_matrix, annot=True, cmap='coolwarm')\n",
    "plt.title('Correlation Matrix')\n",
    "plt.show()"
   ]
  },
  {
   "cell_type": "code",
   "execution_count": null,
   "metadata": {},
   "outputs": [],
   "source": []
  }
 ],
 "metadata": {
  "kernelspec": {
   "display_name": "base",
   "language": "python",
   "name": "python3"
  },
  "language_info": {
   "codemirror_mode": {
    "name": "ipython",
    "version": 3
   },
   "file_extension": ".py",
   "mimetype": "text/x-python",
   "name": "python",
   "nbconvert_exporter": "python",
   "pygments_lexer": "ipython3",
   "version": "3.11.5"
  }
 },
 "nbformat": 4,
 "nbformat_minor": 2
}
