{
 "cells": [
  {
   "cell_type": "markdown",
   "metadata": {},
   "source": [
    "# Data exploration & preparation"
   ]
  },
  {
   "cell_type": "code",
   "execution_count": 1,
   "metadata": {},
   "outputs": [],
   "source": [
    "import matplotlib.pyplot as plt\n",
    "import numpy as np\n",
    "import pandas as pd\n",
    "from sklearn.linear_model import Lasso\n",
    "from sklearn.metrics import (make_scorer, mean_squared_error, r2_score,\n",
    "                             root_mean_squared_error)\n",
    "from sklearn.model_selection import GridSearchCV, train_test_split\n",
    "from sklearn.preprocessing import MinMaxScaler"
   ]
  },
  {
   "cell_type": "code",
   "execution_count": 2,
   "metadata": {},
   "outputs": [
    {
     "data": {
      "text/html": [
       "<div>\n",
       "<style scoped>\n",
       "    .dataframe tbody tr th:only-of-type {\n",
       "        vertical-align: middle;\n",
       "    }\n",
       "\n",
       "    .dataframe tbody tr th {\n",
       "        vertical-align: top;\n",
       "    }\n",
       "\n",
       "    .dataframe thead th {\n",
       "        text-align: right;\n",
       "    }\n",
       "</style>\n",
       "<table border=\"1\" class=\"dataframe\">\n",
       "  <thead>\n",
       "    <tr style=\"text-align: right;\">\n",
       "      <th></th>\n",
       "      <th>Unnamed: 0</th>\n",
       "      <th>title</th>\n",
       "      <th>Price</th>\n",
       "      <th>Mileage(miles)</th>\n",
       "      <th>Registration_Year</th>\n",
       "      <th>Previous Owners</th>\n",
       "      <th>Fuel type</th>\n",
       "      <th>Body type</th>\n",
       "      <th>Engine</th>\n",
       "      <th>Gearbox</th>\n",
       "      <th>Doors</th>\n",
       "      <th>Seats</th>\n",
       "      <th>Emission Class</th>\n",
       "      <th>Service history</th>\n",
       "    </tr>\n",
       "  </thead>\n",
       "  <tbody>\n",
       "    <tr>\n",
       "      <th>0</th>\n",
       "      <td>0</td>\n",
       "      <td>SKODA Fabia</td>\n",
       "      <td>6900</td>\n",
       "      <td>70189</td>\n",
       "      <td>2016</td>\n",
       "      <td>3.0</td>\n",
       "      <td>Diesel</td>\n",
       "      <td>Hatchback</td>\n",
       "      <td>1.4L</td>\n",
       "      <td>Manual</td>\n",
       "      <td>5.0</td>\n",
       "      <td>5.0</td>\n",
       "      <td>Euro 6</td>\n",
       "      <td>NaN</td>\n",
       "    </tr>\n",
       "    <tr>\n",
       "      <th>1</th>\n",
       "      <td>1</td>\n",
       "      <td>Vauxhall Corsa</td>\n",
       "      <td>1495</td>\n",
       "      <td>88585</td>\n",
       "      <td>2008</td>\n",
       "      <td>4.0</td>\n",
       "      <td>Petrol</td>\n",
       "      <td>Hatchback</td>\n",
       "      <td>1.2L</td>\n",
       "      <td>Manual</td>\n",
       "      <td>3.0</td>\n",
       "      <td>5.0</td>\n",
       "      <td>Euro 4</td>\n",
       "      <td>Full</td>\n",
       "    </tr>\n",
       "    <tr>\n",
       "      <th>2</th>\n",
       "      <td>2</td>\n",
       "      <td>Hyundai i30</td>\n",
       "      <td>949</td>\n",
       "      <td>137000</td>\n",
       "      <td>2011</td>\n",
       "      <td>NaN</td>\n",
       "      <td>Petrol</td>\n",
       "      <td>Hatchback</td>\n",
       "      <td>1.4L</td>\n",
       "      <td>Manual</td>\n",
       "      <td>5.0</td>\n",
       "      <td>5.0</td>\n",
       "      <td>Euro 5</td>\n",
       "      <td>NaN</td>\n",
       "    </tr>\n",
       "    <tr>\n",
       "      <th>3</th>\n",
       "      <td>3</td>\n",
       "      <td>MINI Hatch</td>\n",
       "      <td>2395</td>\n",
       "      <td>96731</td>\n",
       "      <td>2010</td>\n",
       "      <td>5.0</td>\n",
       "      <td>Petrol</td>\n",
       "      <td>Hatchback</td>\n",
       "      <td>1.4L</td>\n",
       "      <td>Manual</td>\n",
       "      <td>3.0</td>\n",
       "      <td>4.0</td>\n",
       "      <td>Euro 4</td>\n",
       "      <td>Full</td>\n",
       "    </tr>\n",
       "    <tr>\n",
       "      <th>4</th>\n",
       "      <td>4</td>\n",
       "      <td>Vauxhall Corsa</td>\n",
       "      <td>1000</td>\n",
       "      <td>85000</td>\n",
       "      <td>2013</td>\n",
       "      <td>NaN</td>\n",
       "      <td>Diesel</td>\n",
       "      <td>Hatchback</td>\n",
       "      <td>1.3L</td>\n",
       "      <td>Manual</td>\n",
       "      <td>5.0</td>\n",
       "      <td>5.0</td>\n",
       "      <td>Euro 5</td>\n",
       "      <td>NaN</td>\n",
       "    </tr>\n",
       "  </tbody>\n",
       "</table>\n",
       "</div>"
      ],
      "text/plain": [
       "   Unnamed: 0           title  Price  Mileage(miles)  Registration_Year  \\\n",
       "0           0     SKODA Fabia   6900           70189               2016   \n",
       "1           1  Vauxhall Corsa   1495           88585               2008   \n",
       "2           2     Hyundai i30    949          137000               2011   \n",
       "3           3      MINI Hatch   2395           96731               2010   \n",
       "4           4  Vauxhall Corsa   1000           85000               2013   \n",
       "\n",
       "   Previous Owners Fuel type  Body type Engine Gearbox  Doors  Seats  \\\n",
       "0              3.0    Diesel  Hatchback   1.4L  Manual    5.0    5.0   \n",
       "1              4.0    Petrol  Hatchback   1.2L  Manual    3.0    5.0   \n",
       "2              NaN    Petrol  Hatchback   1.4L  Manual    5.0    5.0   \n",
       "3              5.0    Petrol  Hatchback   1.4L  Manual    3.0    4.0   \n",
       "4              NaN    Diesel  Hatchback   1.3L  Manual    5.0    5.0   \n",
       "\n",
       "  Emission Class Service history  \n",
       "0         Euro 6             NaN  \n",
       "1         Euro 4            Full  \n",
       "2         Euro 5             NaN  \n",
       "3         Euro 4            Full  \n",
       "4         Euro 5             NaN  "
      ]
     },
     "execution_count": 2,
     "metadata": {},
     "output_type": "execute_result"
    }
   ],
   "source": [
    "df = pd.read_csv(\"./datasets/used_cars_UK.csv\")\n",
    "df.head()"
   ]
  },
  {
   "cell_type": "code",
   "execution_count": 3,
   "metadata": {},
   "outputs": [
    {
     "name": "stdout",
     "output_type": "stream",
     "text": [
      "<class 'pandas.core.frame.DataFrame'>\n",
      "RangeIndex: 3685 entries, 0 to 3684\n",
      "Data columns (total 14 columns):\n",
      " #   Column             Non-Null Count  Dtype  \n",
      "---  ------             --------------  -----  \n",
      " 0   Unnamed: 0         3685 non-null   int64  \n",
      " 1   title              3685 non-null   object \n",
      " 2   Price              3685 non-null   int64  \n",
      " 3   Mileage(miles)     3685 non-null   int64  \n",
      " 4   Registration_Year  3685 non-null   int64  \n",
      " 5   Previous Owners    2276 non-null   float64\n",
      " 6   Fuel type          3685 non-null   object \n",
      " 7   Body type          3685 non-null   object \n",
      " 8   Engine             3640 non-null   object \n",
      " 9   Gearbox            3685 non-null   object \n",
      " 10  Doors              3660 non-null   float64\n",
      " 11  Seats              3650 non-null   float64\n",
      " 12  Emission Class     3598 non-null   object \n",
      " 13  Service history    540 non-null    object \n",
      "dtypes: float64(3), int64(4), object(7)\n",
      "memory usage: 403.2+ KB\n"
     ]
    }
   ],
   "source": [
    "# display basic info (num of entries, columns etc.) about dataframe \n",
    "df.info()"
   ]
  },
  {
   "cell_type": "code",
   "execution_count": 4,
   "metadata": {},
   "outputs": [
    {
     "data": {
      "text/plain": [
       "Unnamed: 0             int64\n",
       "title                 object\n",
       "Price                  int64\n",
       "Mileage(miles)         int64\n",
       "Registration_Year      int64\n",
       "Previous Owners      float64\n",
       "Fuel type             object\n",
       "Body type             object\n",
       "Engine                object\n",
       "Gearbox               object\n",
       "Doors                float64\n",
       "Seats                float64\n",
       "Emission Class        object\n",
       "Service history       object\n",
       "dtype: object"
      ]
     },
     "execution_count": 4,
     "metadata": {},
     "output_type": "execute_result"
    }
   ],
   "source": [
    "df.dtypes"
   ]
  },
  {
   "cell_type": "code",
   "execution_count": 5,
   "metadata": {},
   "outputs": [],
   "source": [
    "df.rename(\n",
    "    columns={\n",
    "        \"Price\": \"price\",\n",
    "        \"Mileage(miles)\": \"mileage\",\n",
    "        \"Registration_Year\": \"registration_year\",\n",
    "        \"Previous Owners\": \"previous_owners\",\n",
    "        \"Fuel type\": \"fuel_type\",\n",
    "        \"Body type\": \"body_type\",\n",
    "        \"Engine\": \"engine\",\n",
    "        \"Gearbox\": \"gearbox\",\n",
    "        \"Doors\": \"doors\",\n",
    "        \"Seats\": \"seats\",\n",
    "        \"Emission Class\": \"emission_class\",\n",
    "        \"Service history\": \"service_history\",\n",
    "    },\n",
    "    inplace=True\n",
    ")"
   ]
  },
  {
   "cell_type": "code",
   "execution_count": 6,
   "metadata": {},
   "outputs": [],
   "source": [
    "df.drop(columns=[\"Unnamed: 0\", \"title\"], inplace=True)"
   ]
  },
  {
   "cell_type": "code",
   "execution_count": 7,
   "metadata": {},
   "outputs": [
    {
     "data": {
      "text/plain": [
       "Index(['price', 'mileage', 'registration_year', 'previous_owners', 'fuel_type',\n",
       "       'body_type', 'engine', 'gearbox', 'doors', 'seats', 'emission_class',\n",
       "       'service_history'],\n",
       "      dtype='object')"
      ]
     },
     "execution_count": 7,
     "metadata": {},
     "output_type": "execute_result"
    }
   ],
   "source": [
    "# display names of the columns\n",
    "df.columns"
   ]
  },
  {
   "cell_type": "markdown",
   "metadata": {},
   "source": [
    "## Duplicates check"
   ]
  },
  {
   "cell_type": "code",
   "execution_count": 8,
   "metadata": {},
   "outputs": [
    {
     "data": {
      "text/plain": [
       "(3685, 12)"
      ]
     },
     "execution_count": 8,
     "metadata": {},
     "output_type": "execute_result"
    }
   ],
   "source": [
    "df.shape"
   ]
  },
  {
   "cell_type": "code",
   "execution_count": 9,
   "metadata": {},
   "outputs": [
    {
     "name": "stdout",
     "output_type": "stream",
     "text": [
      "826 out of 3685 rows are duplicated\n"
     ]
    }
   ],
   "source": [
    "duplicates = df[df.duplicated()]\n",
    "print(f\"{len(duplicates)} out of {len(df)} rows are duplicated\")"
   ]
  },
  {
   "cell_type": "code",
   "execution_count": 10,
   "metadata": {},
   "outputs": [
    {
     "data": {
      "text/html": [
       "<div>\n",
       "<style scoped>\n",
       "    .dataframe tbody tr th:only-of-type {\n",
       "        vertical-align: middle;\n",
       "    }\n",
       "\n",
       "    .dataframe tbody tr th {\n",
       "        vertical-align: top;\n",
       "    }\n",
       "\n",
       "    .dataframe thead th {\n",
       "        text-align: right;\n",
       "    }\n",
       "</style>\n",
       "<table border=\"1\" class=\"dataframe\">\n",
       "  <thead>\n",
       "    <tr style=\"text-align: right;\">\n",
       "      <th></th>\n",
       "      <th>price</th>\n",
       "      <th>mileage</th>\n",
       "      <th>registration_year</th>\n",
       "      <th>previous_owners</th>\n",
       "      <th>fuel_type</th>\n",
       "      <th>body_type</th>\n",
       "      <th>engine</th>\n",
       "      <th>gearbox</th>\n",
       "      <th>doors</th>\n",
       "      <th>seats</th>\n",
       "      <th>emission_class</th>\n",
       "      <th>service_history</th>\n",
       "    </tr>\n",
       "  </thead>\n",
       "  <tbody>\n",
       "    <tr>\n",
       "      <th>0</th>\n",
       "      <td>6900</td>\n",
       "      <td>70189</td>\n",
       "      <td>2016</td>\n",
       "      <td>3.0</td>\n",
       "      <td>Diesel</td>\n",
       "      <td>Hatchback</td>\n",
       "      <td>1.4L</td>\n",
       "      <td>Manual</td>\n",
       "      <td>5.0</td>\n",
       "      <td>5.0</td>\n",
       "      <td>Euro 6</td>\n",
       "      <td>NaN</td>\n",
       "    </tr>\n",
       "    <tr>\n",
       "      <th>1</th>\n",
       "      <td>1495</td>\n",
       "      <td>88585</td>\n",
       "      <td>2008</td>\n",
       "      <td>4.0</td>\n",
       "      <td>Petrol</td>\n",
       "      <td>Hatchback</td>\n",
       "      <td>1.2L</td>\n",
       "      <td>Manual</td>\n",
       "      <td>3.0</td>\n",
       "      <td>5.0</td>\n",
       "      <td>Euro 4</td>\n",
       "      <td>Full</td>\n",
       "    </tr>\n",
       "    <tr>\n",
       "      <th>2</th>\n",
       "      <td>949</td>\n",
       "      <td>137000</td>\n",
       "      <td>2011</td>\n",
       "      <td>NaN</td>\n",
       "      <td>Petrol</td>\n",
       "      <td>Hatchback</td>\n",
       "      <td>1.4L</td>\n",
       "      <td>Manual</td>\n",
       "      <td>5.0</td>\n",
       "      <td>5.0</td>\n",
       "      <td>Euro 5</td>\n",
       "      <td>NaN</td>\n",
       "    </tr>\n",
       "    <tr>\n",
       "      <th>3</th>\n",
       "      <td>2395</td>\n",
       "      <td>96731</td>\n",
       "      <td>2010</td>\n",
       "      <td>5.0</td>\n",
       "      <td>Petrol</td>\n",
       "      <td>Hatchback</td>\n",
       "      <td>1.4L</td>\n",
       "      <td>Manual</td>\n",
       "      <td>3.0</td>\n",
       "      <td>4.0</td>\n",
       "      <td>Euro 4</td>\n",
       "      <td>Full</td>\n",
       "    </tr>\n",
       "    <tr>\n",
       "      <th>4</th>\n",
       "      <td>1000</td>\n",
       "      <td>85000</td>\n",
       "      <td>2013</td>\n",
       "      <td>NaN</td>\n",
       "      <td>Diesel</td>\n",
       "      <td>Hatchback</td>\n",
       "      <td>1.3L</td>\n",
       "      <td>Manual</td>\n",
       "      <td>5.0</td>\n",
       "      <td>5.0</td>\n",
       "      <td>Euro 5</td>\n",
       "      <td>NaN</td>\n",
       "    </tr>\n",
       "    <tr>\n",
       "      <th>...</th>\n",
       "      <td>...</td>\n",
       "      <td>...</td>\n",
       "      <td>...</td>\n",
       "      <td>...</td>\n",
       "      <td>...</td>\n",
       "      <td>...</td>\n",
       "      <td>...</td>\n",
       "      <td>...</td>\n",
       "      <td>...</td>\n",
       "      <td>...</td>\n",
       "      <td>...</td>\n",
       "      <td>...</td>\n",
       "    </tr>\n",
       "    <tr>\n",
       "      <th>3680</th>\n",
       "      <td>1395</td>\n",
       "      <td>76202</td>\n",
       "      <td>2006</td>\n",
       "      <td>4.0</td>\n",
       "      <td>Petrol</td>\n",
       "      <td>Hatchback</td>\n",
       "      <td>1.6L</td>\n",
       "      <td>Manual</td>\n",
       "      <td>5.0</td>\n",
       "      <td>5.0</td>\n",
       "      <td>Euro 4</td>\n",
       "      <td>NaN</td>\n",
       "    </tr>\n",
       "    <tr>\n",
       "      <th>3681</th>\n",
       "      <td>6990</td>\n",
       "      <td>119000</td>\n",
       "      <td>2012</td>\n",
       "      <td>NaN</td>\n",
       "      <td>Petrol</td>\n",
       "      <td>Saloon</td>\n",
       "      <td>2.0L</td>\n",
       "      <td>Manual</td>\n",
       "      <td>4.0</td>\n",
       "      <td>5.0</td>\n",
       "      <td>Euro 5</td>\n",
       "      <td>NaN</td>\n",
       "    </tr>\n",
       "    <tr>\n",
       "      <th>3682</th>\n",
       "      <td>3995</td>\n",
       "      <td>139000</td>\n",
       "      <td>2013</td>\n",
       "      <td>NaN</td>\n",
       "      <td>Diesel</td>\n",
       "      <td>Saloon</td>\n",
       "      <td>2.0L</td>\n",
       "      <td>Manual</td>\n",
       "      <td>4.0</td>\n",
       "      <td>5.0</td>\n",
       "      <td>Euro 5</td>\n",
       "      <td>NaN</td>\n",
       "    </tr>\n",
       "    <tr>\n",
       "      <th>3683</th>\n",
       "      <td>1390</td>\n",
       "      <td>179190</td>\n",
       "      <td>2007</td>\n",
       "      <td>NaN</td>\n",
       "      <td>Diesel</td>\n",
       "      <td>Estate</td>\n",
       "      <td>2.2L</td>\n",
       "      <td>Manual</td>\n",
       "      <td>5.0</td>\n",
       "      <td>5.0</td>\n",
       "      <td>Euro 4</td>\n",
       "      <td>Full</td>\n",
       "    </tr>\n",
       "    <tr>\n",
       "      <th>3684</th>\n",
       "      <td>2000</td>\n",
       "      <td>82160</td>\n",
       "      <td>2013</td>\n",
       "      <td>7.0</td>\n",
       "      <td>Petrol</td>\n",
       "      <td>Hatchback</td>\n",
       "      <td>1.2L</td>\n",
       "      <td>Manual</td>\n",
       "      <td>5.0</td>\n",
       "      <td>5.0</td>\n",
       "      <td>Euro 5</td>\n",
       "      <td>NaN</td>\n",
       "    </tr>\n",
       "  </tbody>\n",
       "</table>\n",
       "<p>2859 rows × 12 columns</p>\n",
       "</div>"
      ],
      "text/plain": [
       "      price  mileage  registration_year  previous_owners fuel_type  body_type  \\\n",
       "0      6900    70189               2016              3.0    Diesel  Hatchback   \n",
       "1      1495    88585               2008              4.0    Petrol  Hatchback   \n",
       "2       949   137000               2011              NaN    Petrol  Hatchback   \n",
       "3      2395    96731               2010              5.0    Petrol  Hatchback   \n",
       "4      1000    85000               2013              NaN    Diesel  Hatchback   \n",
       "...     ...      ...                ...              ...       ...        ...   \n",
       "3680   1395    76202               2006              4.0    Petrol  Hatchback   \n",
       "3681   6990   119000               2012              NaN    Petrol     Saloon   \n",
       "3682   3995   139000               2013              NaN    Diesel     Saloon   \n",
       "3683   1390   179190               2007              NaN    Diesel     Estate   \n",
       "3684   2000    82160               2013              7.0    Petrol  Hatchback   \n",
       "\n",
       "     engine gearbox  doors  seats emission_class service_history  \n",
       "0      1.4L  Manual    5.0    5.0         Euro 6             NaN  \n",
       "1      1.2L  Manual    3.0    5.0         Euro 4            Full  \n",
       "2      1.4L  Manual    5.0    5.0         Euro 5             NaN  \n",
       "3      1.4L  Manual    3.0    4.0         Euro 4            Full  \n",
       "4      1.3L  Manual    5.0    5.0         Euro 5             NaN  \n",
       "...     ...     ...    ...    ...            ...             ...  \n",
       "3680   1.6L  Manual    5.0    5.0         Euro 4             NaN  \n",
       "3681   2.0L  Manual    4.0    5.0         Euro 5             NaN  \n",
       "3682   2.0L  Manual    4.0    5.0         Euro 5             NaN  \n",
       "3683   2.2L  Manual    5.0    5.0         Euro 4            Full  \n",
       "3684   1.2L  Manual    5.0    5.0         Euro 5             NaN  \n",
       "\n",
       "[2859 rows x 12 columns]"
      ]
     },
     "execution_count": 10,
     "metadata": {},
     "output_type": "execute_result"
    }
   ],
   "source": [
    "df.drop_duplicates()"
   ]
  },
  {
   "cell_type": "markdown",
   "metadata": {},
   "source": [
    "## Unique values for nominal/categorical data"
   ]
  },
  {
   "cell_type": "code",
   "execution_count": 11,
   "metadata": {},
   "outputs": [
    {
     "data": {
      "text/plain": [
       "price                  int64\n",
       "mileage                int64\n",
       "registration_year      int64\n",
       "previous_owners      float64\n",
       "fuel_type             object\n",
       "body_type             object\n",
       "engine                object\n",
       "gearbox               object\n",
       "doors                float64\n",
       "seats                float64\n",
       "emission_class        object\n",
       "service_history       object\n",
       "dtype: object"
      ]
     },
     "execution_count": 11,
     "metadata": {},
     "output_type": "execute_result"
    }
   ],
   "source": [
    "df.dtypes"
   ]
  },
  {
   "cell_type": "code",
   "execution_count": 12,
   "metadata": {},
   "outputs": [
    {
     "name": "stdout",
     "output_type": "stream",
     "text": [
      "fuel_type ['Diesel' 'Petrol' 'Petrol Plug-in Hybrid' 'Petrol Hybrid' 'Electric'\n",
      " 'Diesel Hybrid']\n",
      "---\n",
      "body_type ['Hatchback' 'Coupe' 'Estate' 'Saloon' 'Convertible' 'MPV' 'SUV' 'Minibus'\n",
      " 'Combi Van' 'Pickup']\n",
      "---\n",
      "engine ['1.4L' '1.2L' '1.3L' '2.0L' '1.6L' '2.3L' '1.8L' '1.0L' '3.0L' '1.5L'\n",
      " '1.9L' '2.4L' '2.2L' '3.5L' '3.2L' '2.5L' '1.1L' '3.1L' '3.7L' '2.6L'\n",
      " '2.1L' '2.8L' '5.0L' '0.8L' '2.7L' '1.7L' '0.9L' '4.2L' nan '4.4L' '4.3L'\n",
      " '3.3L' '5.5L' '4.8L' '6.3L']\n",
      "---\n",
      "gearbox ['Manual' 'Automatic']\n",
      "---\n",
      "emission_class ['Euro 6' 'Euro 4' 'Euro 5' nan 'Euro 3' 'Euro 2' 'Euro 1']\n",
      "---\n",
      "service_history [nan 'Full']\n",
      "---\n"
     ]
    }
   ],
   "source": [
    "for i, dtype in zip(df.dtypes.index, df.dtypes.values):\n",
    "    if dtype == \"object\":\n",
    "        print(i, df[i].unique())\n",
    "        print(\"---\")"
   ]
  },
  {
   "cell_type": "markdown",
   "metadata": {},
   "source": [
    "## Handle missing values"
   ]
  },
  {
   "cell_type": "markdown",
   "metadata": {},
   "source": [
    "### Categorical variables"
   ]
  },
  {
   "cell_type": "code",
   "execution_count": 13,
   "metadata": {},
   "outputs": [
    {
     "name": "stderr",
     "output_type": "stream",
     "text": [
      "/var/folders/zz/r2b7n9cx4bx877cfdr2k98nw0000gn/T/ipykernel_8736/4261156369.py:2: FutureWarning: A value is trying to be set on a copy of a DataFrame or Series through chained assignment using an inplace method.\n",
      "The behavior will change in pandas 3.0. This inplace method will never work because the intermediate object on which we are setting values always behaves as a copy.\n",
      "\n",
      "For example, when doing 'df[col].method(value, inplace=True)', try using 'df.method({col: value}, inplace=True)' or df[col] = df[col].method(value) instead, to perform the operation inplace on the original object.\n",
      "\n",
      "\n",
      "  df['engine'].fillna(df.engine.mean(), inplace=True)\n"
     ]
    }
   ],
   "source": [
    "df['engine'] = df['engine'].str.replace('L', '', regex=False).astype(float)\n",
    "df['engine'].fillna(df.engine.mean(), inplace=True)\n",
    "df['emission_class'] = df['emission_class'].fillna('Unknown')\n",
    "df['service_history'] = df['service_history'].fillna(\"Unknown\")"
   ]
  },
  {
   "cell_type": "markdown",
   "metadata": {},
   "source": [
    "### Interval/ratio variables"
   ]
  },
  {
   "cell_type": "code",
   "execution_count": 14,
   "metadata": {},
   "outputs": [],
   "source": [
    "df.fillna(\n",
    "    {\n",
    "        \"mileage\": df[\"mileage\"].median(),\n",
    "        \"registration_year\": df[\"registration_year\"].median(),\n",
    "        \"previous_owners\": df[\"previous_owners\"].median(),\n",
    "        \"engine\": df[\"engine\"].median(),\n",
    "        \"doors\": df[\"doors\"].median(),\n",
    "        \"seats\": df[\"seats\"].median(),\n",
    "    },\n",
    "    inplace=True,\n",
    ")"
   ]
  },
  {
   "cell_type": "markdown",
   "metadata": {},
   "source": [
    "## One-hot encoding for categorical/nominal values"
   ]
  },
  {
   "cell_type": "code",
   "execution_count": 15,
   "metadata": {},
   "outputs": [
    {
     "name": "stdout",
     "output_type": "stream",
     "text": [
      "Categorical values: ['fuel_type', 'body_type', 'gearbox', 'emission_class', 'service_history']\n"
     ]
    }
   ],
   "source": [
    "print(\"Categorical values:\", df.select_dtypes(include='object').columns.tolist())"
   ]
  },
  {
   "cell_type": "code",
   "execution_count": 16,
   "metadata": {},
   "outputs": [],
   "source": [
    "df = pd.get_dummies(df, ['fuel_type', 'body_type', 'gearbox', 'emission_class', 'service_history'])"
   ]
  },
  {
   "cell_type": "code",
   "execution_count": 17,
   "metadata": {},
   "outputs": [
    {
     "data": {
      "text/html": [
       "<div>\n",
       "<style scoped>\n",
       "    .dataframe tbody tr th:only-of-type {\n",
       "        vertical-align: middle;\n",
       "    }\n",
       "\n",
       "    .dataframe tbody tr th {\n",
       "        vertical-align: top;\n",
       "    }\n",
       "\n",
       "    .dataframe thead th {\n",
       "        text-align: right;\n",
       "    }\n",
       "</style>\n",
       "<table border=\"1\" class=\"dataframe\">\n",
       "  <thead>\n",
       "    <tr style=\"text-align: right;\">\n",
       "      <th></th>\n",
       "      <th>price</th>\n",
       "      <th>mileage</th>\n",
       "      <th>registration_year</th>\n",
       "      <th>previous_owners</th>\n",
       "      <th>engine</th>\n",
       "      <th>doors</th>\n",
       "      <th>seats</th>\n",
       "      <th>fuel_type_Diesel</th>\n",
       "      <th>fuel_type_Diesel Hybrid</th>\n",
       "      <th>fuel_type_Electric</th>\n",
       "      <th>...</th>\n",
       "      <th>gearbox_Manual</th>\n",
       "      <th>emission_class_Euro 1</th>\n",
       "      <th>emission_class_Euro 2</th>\n",
       "      <th>emission_class_Euro 3</th>\n",
       "      <th>emission_class_Euro 4</th>\n",
       "      <th>emission_class_Euro 5</th>\n",
       "      <th>emission_class_Euro 6</th>\n",
       "      <th>emission_class_Unknown</th>\n",
       "      <th>service_history_Full</th>\n",
       "      <th>service_history_Unknown</th>\n",
       "    </tr>\n",
       "  </thead>\n",
       "  <tbody>\n",
       "    <tr>\n",
       "      <th>0</th>\n",
       "      <td>6900</td>\n",
       "      <td>70189</td>\n",
       "      <td>2016</td>\n",
       "      <td>3.0</td>\n",
       "      <td>1.4</td>\n",
       "      <td>5.0</td>\n",
       "      <td>5.0</td>\n",
       "      <td>True</td>\n",
       "      <td>False</td>\n",
       "      <td>False</td>\n",
       "      <td>...</td>\n",
       "      <td>True</td>\n",
       "      <td>False</td>\n",
       "      <td>False</td>\n",
       "      <td>False</td>\n",
       "      <td>False</td>\n",
       "      <td>False</td>\n",
       "      <td>True</td>\n",
       "      <td>False</td>\n",
       "      <td>False</td>\n",
       "      <td>True</td>\n",
       "    </tr>\n",
       "    <tr>\n",
       "      <th>1</th>\n",
       "      <td>1495</td>\n",
       "      <td>88585</td>\n",
       "      <td>2008</td>\n",
       "      <td>4.0</td>\n",
       "      <td>1.2</td>\n",
       "      <td>3.0</td>\n",
       "      <td>5.0</td>\n",
       "      <td>False</td>\n",
       "      <td>False</td>\n",
       "      <td>False</td>\n",
       "      <td>...</td>\n",
       "      <td>True</td>\n",
       "      <td>False</td>\n",
       "      <td>False</td>\n",
       "      <td>False</td>\n",
       "      <td>True</td>\n",
       "      <td>False</td>\n",
       "      <td>False</td>\n",
       "      <td>False</td>\n",
       "      <td>True</td>\n",
       "      <td>False</td>\n",
       "    </tr>\n",
       "    <tr>\n",
       "      <th>2</th>\n",
       "      <td>949</td>\n",
       "      <td>137000</td>\n",
       "      <td>2011</td>\n",
       "      <td>3.0</td>\n",
       "      <td>1.4</td>\n",
       "      <td>5.0</td>\n",
       "      <td>5.0</td>\n",
       "      <td>False</td>\n",
       "      <td>False</td>\n",
       "      <td>False</td>\n",
       "      <td>...</td>\n",
       "      <td>True</td>\n",
       "      <td>False</td>\n",
       "      <td>False</td>\n",
       "      <td>False</td>\n",
       "      <td>False</td>\n",
       "      <td>True</td>\n",
       "      <td>False</td>\n",
       "      <td>False</td>\n",
       "      <td>False</td>\n",
       "      <td>True</td>\n",
       "    </tr>\n",
       "    <tr>\n",
       "      <th>3</th>\n",
       "      <td>2395</td>\n",
       "      <td>96731</td>\n",
       "      <td>2010</td>\n",
       "      <td>5.0</td>\n",
       "      <td>1.4</td>\n",
       "      <td>3.0</td>\n",
       "      <td>4.0</td>\n",
       "      <td>False</td>\n",
       "      <td>False</td>\n",
       "      <td>False</td>\n",
       "      <td>...</td>\n",
       "      <td>True</td>\n",
       "      <td>False</td>\n",
       "      <td>False</td>\n",
       "      <td>False</td>\n",
       "      <td>True</td>\n",
       "      <td>False</td>\n",
       "      <td>False</td>\n",
       "      <td>False</td>\n",
       "      <td>True</td>\n",
       "      <td>False</td>\n",
       "    </tr>\n",
       "    <tr>\n",
       "      <th>4</th>\n",
       "      <td>1000</td>\n",
       "      <td>85000</td>\n",
       "      <td>2013</td>\n",
       "      <td>3.0</td>\n",
       "      <td>1.3</td>\n",
       "      <td>5.0</td>\n",
       "      <td>5.0</td>\n",
       "      <td>True</td>\n",
       "      <td>False</td>\n",
       "      <td>False</td>\n",
       "      <td>...</td>\n",
       "      <td>True</td>\n",
       "      <td>False</td>\n",
       "      <td>False</td>\n",
       "      <td>False</td>\n",
       "      <td>False</td>\n",
       "      <td>True</td>\n",
       "      <td>False</td>\n",
       "      <td>False</td>\n",
       "      <td>False</td>\n",
       "      <td>True</td>\n",
       "    </tr>\n",
       "  </tbody>\n",
       "</table>\n",
       "<p>5 rows × 34 columns</p>\n",
       "</div>"
      ],
      "text/plain": [
       "   price  mileage  registration_year  previous_owners  engine  doors  seats  \\\n",
       "0   6900    70189               2016              3.0     1.4    5.0    5.0   \n",
       "1   1495    88585               2008              4.0     1.2    3.0    5.0   \n",
       "2    949   137000               2011              3.0     1.4    5.0    5.0   \n",
       "3   2395    96731               2010              5.0     1.4    3.0    4.0   \n",
       "4   1000    85000               2013              3.0     1.3    5.0    5.0   \n",
       "\n",
       "   fuel_type_Diesel  fuel_type_Diesel Hybrid  fuel_type_Electric  ...  \\\n",
       "0              True                    False               False  ...   \n",
       "1             False                    False               False  ...   \n",
       "2             False                    False               False  ...   \n",
       "3             False                    False               False  ...   \n",
       "4              True                    False               False  ...   \n",
       "\n",
       "   gearbox_Manual  emission_class_Euro 1  emission_class_Euro 2  \\\n",
       "0            True                  False                  False   \n",
       "1            True                  False                  False   \n",
       "2            True                  False                  False   \n",
       "3            True                  False                  False   \n",
       "4            True                  False                  False   \n",
       "\n",
       "   emission_class_Euro 3  emission_class_Euro 4  emission_class_Euro 5  \\\n",
       "0                  False                  False                  False   \n",
       "1                  False                   True                  False   \n",
       "2                  False                  False                   True   \n",
       "3                  False                   True                  False   \n",
       "4                  False                  False                   True   \n",
       "\n",
       "   emission_class_Euro 6  emission_class_Unknown  service_history_Full  \\\n",
       "0                   True                   False                 False   \n",
       "1                  False                   False                  True   \n",
       "2                  False                   False                 False   \n",
       "3                  False                   False                  True   \n",
       "4                  False                   False                 False   \n",
       "\n",
       "   service_history_Unknown  \n",
       "0                     True  \n",
       "1                    False  \n",
       "2                     True  \n",
       "3                    False  \n",
       "4                     True  \n",
       "\n",
       "[5 rows x 34 columns]"
      ]
     },
     "execution_count": 17,
     "metadata": {},
     "output_type": "execute_result"
    }
   ],
   "source": [
    "df.head()"
   ]
  },
  {
   "cell_type": "markdown",
   "metadata": {},
   "source": [
    "# Scale (numerical) data"
   ]
  },
  {
   "cell_type": "code",
   "execution_count": 18,
   "metadata": {},
   "outputs": [],
   "source": [
    "# Identify numerical and categorical columns\n",
    "numerical_columns = df.select_dtypes(include='number').columns\n",
    "categorical_columns = [col for col in df.columns if col not in numerical_columns]"
   ]
  },
  {
   "cell_type": "code",
   "execution_count": 19,
   "metadata": {},
   "outputs": [],
   "source": [
    "# Scale the numerical data\n",
    "scaler = MinMaxScaler()\n",
    "scaled_numerical_data = scaler.fit_transform(df[numerical_columns])\n",
    "scaled_numerical_df = pd.DataFrame(scaled_numerical_data, columns=numerical_columns)"
   ]
  },
  {
   "cell_type": "code",
   "execution_count": 20,
   "metadata": {},
   "outputs": [],
   "source": [
    "# Combine scaled numerical data with one-hot encoded categorical data\n",
    "processed_df = pd.concat([scaled_numerical_df, df[categorical_columns].reset_index(drop=True)], axis=1)\n",
    "processed_df_np = processed_df.values"
   ]
  },
  {
   "cell_type": "markdown",
   "metadata": {},
   "source": [
    "# Split into train & test sets"
   ]
  },
  {
   "cell_type": "code",
   "execution_count": 21,
   "metadata": {},
   "outputs": [],
   "source": [
    "X_train, X_test, y_train, y_test = train_test_split(\n",
    "    processed_df.drop('price', axis=1).values,\n",
    "    df['price'].values,\n",
    "    test_size=0.2,\n",
    "    random_state=42\n",
    ")"
   ]
  },
  {
   "cell_type": "markdown",
   "metadata": {},
   "source": [
    "# Lasso regression"
   ]
  },
  {
   "cell_type": "code",
   "execution_count": 22,
   "metadata": {},
   "outputs": [
    {
     "name": "stderr",
     "output_type": "stream",
     "text": [
      "/Users/sudoleg/anaconda3/envs/ML_github/lib/python3.12/site-packages/sklearn/linear_model/_coordinate_descent.py:697: ConvergenceWarning: Objective did not converge. You might want to increase the number of iterations, check the scale of the features or consider increasing regularisation. Duality gap: 2.128e+08, tolerance: 4.656e+06\n",
      "  model = cd_fast.enet_coordinate_descent(\n",
      "/Users/sudoleg/anaconda3/envs/ML_github/lib/python3.12/site-packages/sklearn/linear_model/_coordinate_descent.py:697: ConvergenceWarning: Objective did not converge. You might want to increase the number of iterations, check the scale of the features or consider increasing regularisation. Duality gap: 6.469e+08, tolerance: 4.730e+07\n",
      "  model = cd_fast.enet_coordinate_descent(\n",
      "/Users/sudoleg/anaconda3/envs/ML_github/lib/python3.12/site-packages/sklearn/linear_model/_coordinate_descent.py:697: ConvergenceWarning: Objective did not converge. You might want to increase the number of iterations, check the scale of the features or consider increasing regularisation. Duality gap: 6.469e+08, tolerance: 4.730e+06\n",
      "  model = cd_fast.enet_coordinate_descent(\n",
      "/Users/sudoleg/anaconda3/envs/ML_github/lib/python3.12/site-packages/sklearn/linear_model/_coordinate_descent.py:697: ConvergenceWarning: Objective did not converge. You might want to increase the number of iterations, check the scale of the features or consider increasing regularisation. Duality gap: 1.772e+08, tolerance: 4.543e+07\n",
      "  model = cd_fast.enet_coordinate_descent(\n",
      "/Users/sudoleg/anaconda3/envs/ML_github/lib/python3.12/site-packages/sklearn/linear_model/_coordinate_descent.py:697: ConvergenceWarning: Objective did not converge. You might want to increase the number of iterations, check the scale of the features or consider increasing regularisation. Duality gap: 1.772e+08, tolerance: 4.543e+06\n",
      "  model = cd_fast.enet_coordinate_descent(\n",
      "/Users/sudoleg/anaconda3/envs/ML_github/lib/python3.12/site-packages/sklearn/linear_model/_coordinate_descent.py:697: ConvergenceWarning: Objective did not converge. You might want to increase the number of iterations, check the scale of the features or consider increasing regularisation. Duality gap: 1.755e+07, tolerance: 4.606e+06\n",
      "  model = cd_fast.enet_coordinate_descent(\n",
      "/Users/sudoleg/anaconda3/envs/ML_github/lib/python3.12/site-packages/sklearn/linear_model/_coordinate_descent.py:697: ConvergenceWarning: Objective did not converge. You might want to increase the number of iterations, check the scale of the features or consider increasing regularisation. Duality gap: 2.128e+08, tolerance: 4.656e+07\n",
      "  model = cd_fast.enet_coordinate_descent(\n",
      "/Users/sudoleg/anaconda3/envs/ML_github/lib/python3.12/site-packages/sklearn/linear_model/_coordinate_descent.py:697: ConvergenceWarning: Objective did not converge. You might want to increase the number of iterations, check the scale of the features or consider increasing regularisation. Duality gap: 6.469e+08, tolerance: 4.730e+08\n",
      "  model = cd_fast.enet_coordinate_descent(\n",
      "/Users/sudoleg/anaconda3/envs/ML_github/lib/python3.12/site-packages/sklearn/linear_model/_coordinate_descent.py:697: ConvergenceWarning: Objective did not converge. You might want to increase the number of iterations, check the scale of the features or consider increasing regularisation. Duality gap: 1.755e+07, tolerance: 4.606e+06\n",
      "  model = cd_fast.enet_coordinate_descent(\n",
      "/Users/sudoleg/anaconda3/envs/ML_github/lib/python3.12/site-packages/sklearn/linear_model/_coordinate_descent.py:697: ConvergenceWarning: Objective did not converge. You might want to increase the number of iterations, check the scale of the features or consider increasing regularisation. Duality gap: 2.128e+08, tolerance: 4.656e+06\n",
      "  model = cd_fast.enet_coordinate_descent(\n",
      "/Users/sudoleg/anaconda3/envs/ML_github/lib/python3.12/site-packages/sklearn/linear_model/_coordinate_descent.py:697: ConvergenceWarning: Objective did not converge. You might want to increase the number of iterations, check the scale of the features or consider increasing regularisation. Duality gap: 6.469e+08, tolerance: 4.730e+06\n",
      "  model = cd_fast.enet_coordinate_descent(\n",
      "/Users/sudoleg/anaconda3/envs/ML_github/lib/python3.12/site-packages/sklearn/linear_model/_coordinate_descent.py:697: ConvergenceWarning: Objective did not converge. You might want to increase the number of iterations, check the scale of the features or consider increasing regularisation. Duality gap: 1.772e+08, tolerance: 4.543e+06\n",
      "  model = cd_fast.enet_coordinate_descent(\n",
      "/Users/sudoleg/anaconda3/envs/ML_github/lib/python3.12/site-packages/sklearn/linear_model/_coordinate_descent.py:697: ConvergenceWarning: Objective did not converge. You might want to increase the number of iterations, check the scale of the features or consider increasing regularisation. Duality gap: 6.469e+08, tolerance: 4.730e+07\n",
      "  model = cd_fast.enet_coordinate_descent(\n",
      "/Users/sudoleg/anaconda3/envs/ML_github/lib/python3.12/site-packages/sklearn/linear_model/_coordinate_descent.py:697: ConvergenceWarning: Objective did not converge. You might want to increase the number of iterations, check the scale of the features or consider increasing regularisation. Duality gap: 6.469e+08, tolerance: 4.730e+08\n",
      "  model = cd_fast.enet_coordinate_descent(\n",
      "/Users/sudoleg/anaconda3/envs/ML_github/lib/python3.12/site-packages/sklearn/linear_model/_coordinate_descent.py:697: ConvergenceWarning: Objective did not converge. You might want to increase the number of iterations, check the scale of the features or consider increasing regularisation. Duality gap: 2.128e+08, tolerance: 4.656e+07\n",
      "  model = cd_fast.enet_coordinate_descent(\n",
      "/Users/sudoleg/anaconda3/envs/ML_github/lib/python3.12/site-packages/sklearn/linear_model/_coordinate_descent.py:697: ConvergenceWarning: Objective did not converge. You might want to increase the number of iterations, check the scale of the features or consider increasing regularisation. Duality gap: 1.772e+08, tolerance: 4.543e+07\n",
      "  model = cd_fast.enet_coordinate_descent(\n",
      "/Users/sudoleg/anaconda3/envs/ML_github/lib/python3.12/site-packages/sklearn/linear_model/_coordinate_descent.py:697: ConvergenceWarning: Objective did not converge. You might want to increase the number of iterations, check the scale of the features or consider increasing regularisation. Duality gap: 1.782e+07, tolerance: 4.606e+06\n",
      "  model = cd_fast.enet_coordinate_descent(\n",
      "/Users/sudoleg/anaconda3/envs/ML_github/lib/python3.12/site-packages/sklearn/linear_model/_coordinate_descent.py:697: ConvergenceWarning: Objective did not converge. You might want to increase the number of iterations, check the scale of the features or consider increasing regularisation. Duality gap: 2.133e+08, tolerance: 4.656e+06\n",
      "  model = cd_fast.enet_coordinate_descent(\n",
      "/Users/sudoleg/anaconda3/envs/ML_github/lib/python3.12/site-packages/sklearn/linear_model/_coordinate_descent.py:697: ConvergenceWarning: Objective did not converge. You might want to increase the number of iterations, check the scale of the features or consider increasing regularisation. Duality gap: 1.778e+08, tolerance: 4.543e+06\n",
      "  model = cd_fast.enet_coordinate_descent(\n",
      "/Users/sudoleg/anaconda3/envs/ML_github/lib/python3.12/site-packages/sklearn/linear_model/_coordinate_descent.py:697: ConvergenceWarning: Objective did not converge. You might want to increase the number of iterations, check the scale of the features or consider increasing regularisation. Duality gap: 6.476e+08, tolerance: 4.730e+06\n",
      "  model = cd_fast.enet_coordinate_descent(\n",
      "/Users/sudoleg/anaconda3/envs/ML_github/lib/python3.12/site-packages/sklearn/linear_model/_coordinate_descent.py:697: ConvergenceWarning: Objective did not converge. You might want to increase the number of iterations, check the scale of the features or consider increasing regularisation. Duality gap: 2.133e+08, tolerance: 4.656e+07\n",
      "  model = cd_fast.enet_coordinate_descent(\n",
      "/Users/sudoleg/anaconda3/envs/ML_github/lib/python3.12/site-packages/sklearn/linear_model/_coordinate_descent.py:697: ConvergenceWarning: Objective did not converge. You might want to increase the number of iterations, check the scale of the features or consider increasing regularisation. Duality gap: 1.778e+08, tolerance: 4.543e+07\n",
      "  model = cd_fast.enet_coordinate_descent(\n",
      "/Users/sudoleg/anaconda3/envs/ML_github/lib/python3.12/site-packages/sklearn/linear_model/_coordinate_descent.py:697: ConvergenceWarning: Objective did not converge. You might want to increase the number of iterations, check the scale of the features or consider increasing regularisation. Duality gap: 6.476e+08, tolerance: 4.730e+07\n",
      "  model = cd_fast.enet_coordinate_descent(\n",
      "/Users/sudoleg/anaconda3/envs/ML_github/lib/python3.12/site-packages/sklearn/linear_model/_coordinate_descent.py:697: ConvergenceWarning: Objective did not converge. You might want to increase the number of iterations, check the scale of the features or consider increasing regularisation. Duality gap: 2.128e+08, tolerance: 4.656e+06\n",
      "  model = cd_fast.enet_coordinate_descent(\n",
      "/Users/sudoleg/anaconda3/envs/ML_github/lib/python3.12/site-packages/sklearn/linear_model/_coordinate_descent.py:697: ConvergenceWarning: Objective did not converge. You might want to increase the number of iterations, check the scale of the features or consider increasing regularisation. Duality gap: 1.755e+07, tolerance: 4.606e+06\n",
      "  model = cd_fast.enet_coordinate_descent(\n",
      "/Users/sudoleg/anaconda3/envs/ML_github/lib/python3.12/site-packages/sklearn/linear_model/_coordinate_descent.py:697: ConvergenceWarning: Objective did not converge. You might want to increase the number of iterations, check the scale of the features or consider increasing regularisation. Duality gap: 6.476e+08, tolerance: 4.730e+08\n",
      "  model = cd_fast.enet_coordinate_descent(\n",
      "/Users/sudoleg/anaconda3/envs/ML_github/lib/python3.12/site-packages/sklearn/linear_model/_coordinate_descent.py:697: ConvergenceWarning: Objective did not converge. You might want to increase the number of iterations, check the scale of the features or consider increasing regularisation. Duality gap: 1.772e+08, tolerance: 4.543e+06\n",
      "  model = cd_fast.enet_coordinate_descent(\n",
      "/Users/sudoleg/anaconda3/envs/ML_github/lib/python3.12/site-packages/sklearn/linear_model/_coordinate_descent.py:697: ConvergenceWarning: Objective did not converge. You might want to increase the number of iterations, check the scale of the features or consider increasing regularisation. Duality gap: 6.469e+08, tolerance: 4.730e+06\n",
      "  model = cd_fast.enet_coordinate_descent(\n",
      "/Users/sudoleg/anaconda3/envs/ML_github/lib/python3.12/site-packages/sklearn/linear_model/_coordinate_descent.py:697: ConvergenceWarning: Objective did not converge. You might want to increase the number of iterations, check the scale of the features or consider increasing regularisation. Duality gap: 1.772e+08, tolerance: 4.543e+07\n",
      "  model = cd_fast.enet_coordinate_descent(\n",
      "/Users/sudoleg/anaconda3/envs/ML_github/lib/python3.12/site-packages/sklearn/linear_model/_coordinate_descent.py:697: ConvergenceWarning: Objective did not converge. You might want to increase the number of iterations, check the scale of the features or consider increasing regularisation. Duality gap: 6.469e+08, tolerance: 4.730e+07\n",
      "  model = cd_fast.enet_coordinate_descent(\n",
      "/Users/sudoleg/anaconda3/envs/ML_github/lib/python3.12/site-packages/sklearn/linear_model/_coordinate_descent.py:697: ConvergenceWarning: Objective did not converge. You might want to increase the number of iterations, check the scale of the features or consider increasing regularisation. Duality gap: 2.128e+08, tolerance: 4.656e+07\n",
      "  model = cd_fast.enet_coordinate_descent(\n",
      "/Users/sudoleg/anaconda3/envs/ML_github/lib/python3.12/site-packages/sklearn/linear_model/_coordinate_descent.py:697: ConvergenceWarning: Objective did not converge. You might want to increase the number of iterations, check the scale of the features or consider increasing regularisation. Duality gap: 6.469e+08, tolerance: 4.730e+08\n",
      "  model = cd_fast.enet_coordinate_descent(\n",
      "/Users/sudoleg/anaconda3/envs/ML_github/lib/python3.12/site-packages/sklearn/linear_model/_coordinate_descent.py:697: ConvergenceWarning: Objective did not converge. You might want to increase the number of iterations, check the scale of the features or consider increasing regularisation. Duality gap: 1.779e+07, tolerance: 4.606e+06\n",
      "  model = cd_fast.enet_coordinate_descent(\n",
      "/Users/sudoleg/anaconda3/envs/ML_github/lib/python3.12/site-packages/sklearn/linear_model/_coordinate_descent.py:697: ConvergenceWarning: Objective did not converge. You might want to increase the number of iterations, check the scale of the features or consider increasing regularisation. Duality gap: 9.343e+06, tolerance: 4.606e+06\n",
      "  model = cd_fast.enet_coordinate_descent(\n"
     ]
    },
    {
     "name": "stdout",
     "output_type": "stream",
     "text": [
      "Best Parameters: {'alpha': 4, 'max_iter': 1000, 'tol': 0.01}\n"
     ]
    }
   ],
   "source": [
    "lasso = Lasso()\n",
    "\n",
    "# Define the hyperparameter grid\n",
    "param_grid = {\n",
    "    'alpha': [0.001, 0.01, 0.1, 1, 2, 3, 4, 5, 10, 100],  # Range of alpha values\n",
    "    'max_iter': [1000, 5000, 10000],          # Maximum number of iterations\n",
    "    'tol': [1e-4, 1e-3, 1e-2]                # Tolerance for optimization\n",
    "}\n",
    "\n",
    "scorer = make_scorer(mean_squared_error, greater_is_better=False)\n",
    "\n",
    "# Perform Grid Search\n",
    "grid_search = GridSearchCV(estimator=lasso, param_grid=param_grid, scoring=scorer, cv=5, n_jobs=-1)\n",
    "grid_search.fit(X_train, y_train)\n",
    "\n",
    "# Best model and hyperparameters\n",
    "best_model = grid_search.best_estimator_\n",
    "print(\"Best Parameters:\", grid_search.best_params_)"
   ]
  },
  {
   "cell_type": "markdown",
   "metadata": {},
   "source": [
    "## Evaluation"
   ]
  },
  {
   "cell_type": "code",
   "execution_count": 23,
   "metadata": {},
   "outputs": [
    {
     "name": "stdout",
     "output_type": "stream",
     "text": [
      "RMSE: 2277.7\n",
      "R-squared (R2): 0.76\n"
     ]
    }
   ],
   "source": [
    "# calculate R2-score\n",
    "y_test_pred = best_model.predict(X_test)\n",
    "rmse = root_mean_squared_error(y_test, y_test_pred)\n",
    "r2 = r2_score(y_test, y_test_pred)\n",
    "print(\"RMSE:\", round(rmse, 2))\n",
    "print(\"R-squared (R2):\", round(r2, 2))"
   ]
  },
  {
   "cell_type": "code",
   "execution_count": 24,
   "metadata": {},
   "outputs": [
    {
     "data": {
      "image/png": "[encoded data removed]",
      "text/plain": [
       "<Figure size 800x600 with 2 Axes>"
      ]
     },
     "metadata": {},
     "output_type": "display_data"
    }
   ],
   "source": [
    "plt.figure(figsize=(8, 6))\n",
    "errors = np.abs(y_test - y_test_pred)  # Absolute errors\n",
    "\n",
    "# Scatter plot with color-coded errors\n",
    "scatter = plt.scatter(y_test, y_test_pred, c=errors, cmap='coolwarm', alpha=0.7, edgecolors='k')\n",
    "plt.colorbar(scatter, label='Prediction Error')\n",
    "\n",
    "# Ideal diagonal line\n",
    "plt.plot([min(y_test), max(y_test)], [min(y_test), max(y_test)], 'r--', lw=2, label='Ideal Fit')\n",
    "\n",
    "# Add labels and legend\n",
    "plt.xlabel(\"True Values (y_test)\")\n",
    "plt.ylabel(\"Predicted Values (y_test_pred)\")\n",
    "plt.title(\"True vs Predicted Values\")\n",
    "plt.legend()\n",
    "plt.grid(True)\n",
    "plt.show()"
   ]
  }
 ],
 "metadata": {
  "kernelspec": {
   "display_name": "ML_github",
   "language": "python",
   "name": "python3"
  },
  "language_info": {
   "codemirror_mode": {
    "name": "ipython",
    "version": 3
   },
   "file_extension": ".py",
   "mimetype": "text/x-python",
   "name": "python",
   "nbconvert_exporter": "python",
   "pygments_lexer": "ipython3",
   "version": "3.12.7"
  }
 },
 "nbformat": 4,
 "nbformat_minor": 2
}
