{
 "cells": [
  {
   "cell_type": "markdown",
   "metadata": {},
   "source": [
    "# Basic data exploration"
   ]
  },
  {
   "cell_type": "code",
   "execution_count": null,
   "metadata": {},
   "outputs": [],
   "source": [
    "import pandas as pd # data processing, CSV file I/O (e.g. pd.read_csv)\n",
    "\n",
    "# read csv file and store as data frame in memory\n",
    "df = pd.read_csv(\"./datasets/used_cars_UK.csv\")\n",
    "df.head()"
   ]
  },
  {
   "cell_type": "code",
   "execution_count": null,
   "metadata": {},
   "outputs": [],
   "source": [
    "# display basic info (num of entries, columns etc.) about dataframe \n",
    "df.info()"
   ]
  },
  {
   "cell_type": "code",
   "execution_count": null,
   "metadata": {},
   "outputs": [],
   "source": [
    "df.describe()"
   ]
  },
  {
   "cell_type": "code",
   "execution_count": null,
   "metadata": {},
   "outputs": [],
   "source": [
    "# display names of the columns\n",
    "df.columns"
   ]
  },
  {
   "cell_type": "markdown",
   "metadata": {},
   "source": [
    "# Check for duplicates"
   ]
  },
  {
   "cell_type": "code",
   "execution_count": null,
   "metadata": {},
   "outputs": [],
   "source": [
    "duplicates = df[df.duplicated(subset=['title', 'Price', 'Mileage(miles)'])]\n",
    "\n",
    "if duplicates.empty:\n",
    "    print(\"No duplicates found.\")\n",
    "else:\n",
    "    print(f\"{len(duplicates)} duplicates found.\")\n",
    "\n",
    "# remove duplicates\n",
    "df = df.drop_duplicates(subset=['title', 'Price', 'Mileage(miles)'])"
   ]
  },
  {
   "cell_type": "markdown",
   "metadata": {},
   "source": [
    "# Check for missing values"
   ]
  },
  {
   "cell_type": "code",
   "execution_count": null,
   "metadata": {},
   "outputs": [],
   "source": [
    "df_no_svc_history = df.drop(labels=['Service history'], axis=1)\n",
    "\n",
    "rows_with_missing_values = df_no_svc_history.isna().any(axis=1).sum()\n",
    "print(rows_with_missing_values)"
   ]
  },
  {
   "cell_type": "markdown",
   "metadata": {},
   "source": [
    "# Determine if data is normally distributed"
   ]
  },
  {
   "cell_type": "markdown",
   "metadata": {},
   "source": [
    "## Mileage"
   ]
  },
  {
   "cell_type": "code",
   "execution_count": null,
   "metadata": {},
   "outputs": [],
   "source": [
    "import matplotlib.pyplot as plt\n",
    "import seaborn as sns\n",
    "\n",
    "plt.figure(figsize=(12, 3))\n",
    "sns.histplot(df['Mileage(miles)'], kde=True)\n",
    "plt.title('Histogram for Mileage')\n",
    "plt.show()"
   ]
  },
  {
   "cell_type": "code",
   "execution_count": null,
   "metadata": {},
   "outputs": [],
   "source": [
    "mean = df['Mileage(miles)'].mean()\n",
    "median = df['Mileage(miles)'].median()\n",
    "print(mean, median)"
   ]
  },
  {
   "cell_type": "code",
   "execution_count": null,
   "metadata": {},
   "outputs": [],
   "source": [
    "from scipy.stats import shapiro\n",
    "\n",
    "stat, p = shapiro(df['Mileage(miles)'])\n",
    "print(p)\n",
    "if p > 0.05:\n",
    "    print(\"Mileage is likely normally distributed\")\n",
    "else:\n",
    "    print(\"Mileage is not normally distributed\")"
   ]
  },
  {
   "cell_type": "markdown",
   "metadata": {},
   "source": [
    "## Registration Year"
   ]
  },
  {
   "cell_type": "code",
   "execution_count": null,
   "metadata": {},
   "outputs": [],
   "source": [
    "plt.figure(figsize=(12, 3))\n",
    "sns.histplot(df['Registration_Year'], kde=True)\n",
    "plt.title('Histogram for Registration Year')\n",
    "plt.show()"
   ]
  },
  {
   "cell_type": "code",
   "execution_count": null,
   "metadata": {},
   "outputs": [],
   "source": [
    "mean = df['Registration_Year'].mean()\n",
    "median = df['Registration_Year'].median()\n",
    "print(mean, median)"
   ]
  },
  {
   "cell_type": "code",
   "execution_count": null,
   "metadata": {},
   "outputs": [],
   "source": [
    "from scipy.stats import shapiro\n",
    "\n",
    "stat, p = shapiro(df['Registration_Year'])\n",
    "print(p)\n",
    "if p > 0.05:\n",
    "    print(\"Registration Year is likely normally distributed\")\n",
    "else:\n",
    "    print(\"Registration Year is not normally distributed\")"
   ]
  },
  {
   "cell_type": "markdown",
   "metadata": {},
   "source": [
    "## Engine"
   ]
  },
  {
   "cell_type": "code",
   "execution_count": null,
   "metadata": {},
   "outputs": [],
   "source": [
    "plt.figure(figsize=(12, 3))\n",
    "sns.histplot(df['Engine'], kde=True)\n",
    "plt.title('Histogram for Engine')\n",
    "plt.show()"
   ]
  },
  {
   "cell_type": "markdown",
   "metadata": {},
   "source": [
    "## Owners"
   ]
  },
  {
   "cell_type": "code",
   "execution_count": null,
   "metadata": {},
   "outputs": [],
   "source": [
    "plt.figure(figsize=(12, 3))\n",
    "sns.histplot(df['Previous Owners'], kde=True)\n",
    "plt.title('Histogram for Previous Owners')\n",
    "plt.show()"
   ]
  },
  {
   "cell_type": "markdown",
   "metadata": {},
   "source": [
    "## Doors"
   ]
  },
  {
   "cell_type": "code",
   "execution_count": null,
   "metadata": {},
   "outputs": [],
   "source": [
    "plt.figure(figsize=(12, 3))\n",
    "sns.histplot(df['Doors'], kde=True)\n",
    "plt.title('Histogram for Doors')\n",
    "plt.show()"
   ]
  },
  {
   "cell_type": "markdown",
   "metadata": {},
   "source": [
    "## Seats"
   ]
  },
  {
   "cell_type": "code",
   "execution_count": null,
   "metadata": {},
   "outputs": [],
   "source": [
    "plt.figure(figsize=(12, 3))\n",
    "sns.histplot(df['Seats'], kde=True)\n",
    "plt.title('Histogram for Seats')\n",
    "plt.show()"
   ]
  },
  {
   "cell_type": "markdown",
   "metadata": {},
   "source": [
    "# Handle missing values"
   ]
  },
  {
   "cell_type": "code",
   "execution_count": null,
   "metadata": {},
   "outputs": [],
   "source": [
    "# remove rows with missing prices as this is the target variable\n",
    "df.dropna(subset=['Price'], inplace=True)\n",
    "\n",
    "# drop unnamed column\n",
    "df.drop(\"Unnamed: 0\", axis=1, inplace=True)\n",
    "\n",
    "# drop title column because irrelevant\n",
    "df.drop(\"title\", axis=1, inplace=True)\n",
    "\n",
    "# drop service history column because only \"full\" or Nan\n",
    "df.drop(\"Service history\", axis=1, inplace=True)\n"
   ]
  },
  {
   "cell_type": "markdown",
   "metadata": {},
   "source": [
    "# Filling missing values"
   ]
  },
  {
   "cell_type": "code",
   "execution_count": null,
   "metadata": {},
   "outputs": [],
   "source": [
    "# Convert the 'Engine Volume' column to a numerical data type (float)\n",
    "df['Engine'] = df['Engine'].str.rstrip('L').astype(float)"
   ]
  },
  {
   "cell_type": "code",
   "execution_count": null,
   "metadata": {},
   "outputs": [],
   "source": [
    "# For nominal and ordinal variables, such as \"Fuel type\", \"Body type\", \"Emission Class\", \"Gearbox\" and \"Service history\"\n",
    "# we can impute missing values with the mode (most frequent category) since these variables represent categories without a natural order.\n",
    "df['Fuel type'].fillna(df['Fuel type'].mode()[0], inplace=True)\n",
    "df['Body type'].fillna(df['Body type'].mode()[0], inplace=True)\n",
    "df['Emission Class'].fillna(df['Emission Class'].mode()[0], inplace=True)\n",
    "df['Gearbox'].fillna(df['Gearbox'].mode()[0], inplace=True)"
   ]
  },
  {
   "cell_type": "code",
   "execution_count": null,
   "metadata": {},
   "outputs": [],
   "source": [
    "# For interval/ratio variables, such as \"Mileage\", \"Registration_Year\", \"Previous Owners\", \"Engine\", \"Doors\", and \"Seats\" \n",
    "# we can impute missing values with the mean or median. The choice between mean and median depends on the distribution of the data.\n",
    "# If the data is normally distributed, we can use the mean; if not, we use the median.\n",
    "df['Mileage(miles)'].fillna(df['Mileage(miles)'].median(), inplace=True)\n",
    "df['Registration_Year'].fillna(df['Registration_Year'].median(), inplace=True)\n",
    "df['Previous Owners'].fillna(df['Previous Owners'].median(), inplace=True)\n",
    "df['Engine'].fillna(df['Engine'].median(), inplace=True)\n",
    "df['Doors'].fillna(df['Doors'].median(), inplace=True)\n",
    "df['Seats'].fillna(df['Seats'].median(), inplace=True)"
   ]
  },
  {
   "cell_type": "markdown",
   "metadata": {},
   "source": [
    "# One-hot encoding for categorical/nominal values"
   ]
  },
  {
   "cell_type": "code",
   "execution_count": null,
   "metadata": {},
   "outputs": [],
   "source": [
    "df = pd.get_dummies(df, columns=['Gearbox', 'Emission Class', 'Fuel type', 'Body type'])"
   ]
  },
  {
   "cell_type": "markdown",
   "metadata": {},
   "source": [
    "# Split the data into features (X) and the target (y)"
   ]
  },
  {
   "cell_type": "code",
   "execution_count": null,
   "metadata": {},
   "outputs": [],
   "source": [
    "X = df.drop(labels=['Price'],axis=1).values\n",
    "y = df[['Price']].values"
   ]
  },
  {
   "cell_type": "markdown",
   "metadata": {},
   "source": [
    "## Training and testing sets"
   ]
  },
  {
   "cell_type": "code",
   "execution_count": null,
   "metadata": {},
   "outputs": [],
   "source": [
    "from sklearn.model_selection import train_test_split\n",
    "\n",
    "# split the data frame into train and test data\n",
    "X_train, X_test, y_train, y_test = train_test_split(X, y)"
   ]
  },
  {
   "cell_type": "markdown",
   "metadata": {},
   "source": [
    "# Create and train linear model"
   ]
  },
  {
   "cell_type": "code",
   "execution_count": null,
   "metadata": {},
   "outputs": [],
   "source": [
    "from sklearn.linear_model import LinearRegression\n",
    "\n",
    "# create and a linear model based on multiple independent variables\n",
    "model = LinearRegression()\n",
    "model.fit(X_train, y_train)"
   ]
  },
  {
   "cell_type": "markdown",
   "metadata": {},
   "source": [
    "# Model evaluation"
   ]
  },
  {
   "cell_type": "code",
   "execution_count": null,
   "metadata": {},
   "outputs": [],
   "source": [
    "from sklearn.metrics import r2_score\n",
    "\n",
    "# calculate R2-score\n",
    "y_test_pred = model.predict(X_test)\n",
    "r2 = r2_score(y_test, y_test_pred)\n",
    "print(f\"R-squared (R2): {r2}\")"
   ]
  }
 ],
 "metadata": {
  "kernelspec": {
   "display_name": "base",
   "language": "python",
   "name": "python3"
  },
  "language_info": {
   "codemirror_mode": {
    "name": "ipython",
    "version": 3
   },
   "file_extension": ".py",
   "mimetype": "text/x-python",
   "name": "python",
   "nbconvert_exporter": "python",
   "pygments_lexer": "ipython3",
   "version": "3.11.5"
  }
 },
 "nbformat": 4,
 "nbformat_minor": 2
}
